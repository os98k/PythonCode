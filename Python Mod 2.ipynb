{
 "cells": [
  {
   "cell_type": "code",
   "execution_count": 4,
   "id": "c5fb73fd",
   "metadata": {},
   "outputs": [
    {
     "data": {
      "text/plain": [
       "'\\nbreak and continue\\nFunctions and docstrings\\ntry and except\\nFile handling basics\\nRandom module\\nDetailed file handling\\nwith block\\nglobal and local variables\\nrecursion vs iteration\\nlambda functions\\nf-strings\\n\\n'"
      ]
     },
     "execution_count": 4,
     "metadata": {},
     "output_type": "execute_result"
    }
   ],
   "source": [
    "#Topics Covered\n",
    "\n",
    "\"\"\"\n",
    "break and continue\n",
    "Functions and docstrings\n",
    "try and except\n",
    "File handling basics\n",
    "Random module\n",
    "Detailed file handling\n",
    "with block\n",
    "global and local variables\n",
    "recursion vs iteration\n",
    "lambda functions\n",
    "f-strings\n",
    "\n",
    "\"\"\""
   ]
  },
  {
   "cell_type": "code",
   "execution_count": null,
   "id": "e93825ad",
   "metadata": {},
   "outputs": [],
   "source": [
    "#Continue\n",
    "i = 0;\n",
    "while(True):\n",
    "    if i+1<5:\n",
    "        i=i+1\n",
    "        continue\n",
    "        \n",
    "        print(i+1, end =\" \")\n",
    "        if i ==44:\n",
    "            break\n",
    "        i = i+1\n"
   ]
  },
  {
   "cell_type": "code",
   "execution_count": 2,
   "id": "44590466",
   "metadata": {},
   "outputs": [
    {
     "name": "stdout",
     "output_type": "stream",
     "text": [
      "A function is a block of code that only runs when it is called. A function is a block of organized, reusable code that is used to perform a single, related actionPython functions return a value using a return statement, if one is specified.A function can be called anywhere after the function has been declared.\n",
      "Functions that are already built in are built in. i.e sum function\n",
      "User define functions are those functions that are define by user\n"
     ]
    }
   ],
   "source": [
    "#Functions\n",
    "#Two types\n",
    "#built in and user define\n",
    "print(\"A function is a block of code that only runs when it is called. \"\n",
    "      \"A function is a block of organized, reusable code that is used to perform a single, related action\"\n",
    "      \"Python functions return a value using a return statement, if one is specified.\" \n",
    "      \"A function can be called anywhere after the function has been declared.\")\n",
    "print(\"Functions that are already built in are built in. i.e sum function\")\n",
    "print(\"User define functions are those functions that are define by user\")"
   ]
  },
  {
   "cell_type": "code",
   "execution_count": 3,
   "id": "fdbe956d",
   "metadata": {},
   "outputs": [
    {
     "name": "stdout",
     "output_type": "stream",
     "text": [
      "22\n"
     ]
    }
   ],
   "source": [
    "#Built in Function\n",
    "a = 10\n",
    "b = 12\n",
    "c = sum((a,b))\n",
    "print(c)"
   ]
  },
  {
   "cell_type": "code",
   "execution_count": 5,
   "id": "52123596",
   "metadata": {},
   "outputs": [
    {
     "name": "stdout",
     "output_type": "stream",
     "text": [
      "I am student\n"
     ]
    }
   ],
   "source": [
    "#User Define Function\n",
    "\n",
    "def fun(): #Function declaration\n",
    "    print(\"I am student\")\n",
    "    \n",
    "fun() #Function Calling"
   ]
  },
  {
   "cell_type": "code",
   "execution_count": 6,
   "id": "18919bce",
   "metadata": {},
   "outputs": [
    {
     "name": "stdout",
     "output_type": "stream",
     "text": [
      "I am student\n",
      "my name is osama\n"
     ]
    }
   ],
   "source": [
    "def namefun():\n",
    "    print(\"my name is osama\")\n",
    "    \n",
    "fun()\n",
    "namefun()"
   ]
  },
  {
   "cell_type": "code",
   "execution_count": 8,
   "id": "1b228e42",
   "metadata": {},
   "outputs": [
    {
     "name": "stdout",
     "output_type": "stream",
     "text": [
      "arguments are -1\n"
     ]
    }
   ],
   "source": [
    "#Passing Arguments\n",
    "\n",
    "def fun1(a,b):\n",
    "    print(\"arguments are\", a-b)\n",
    "fun1(5,6)"
   ]
  },
  {
   "cell_type": "code",
   "execution_count": 10,
   "id": "0576243a",
   "metadata": {},
   "outputs": [
    {
     "name": "stdout",
     "output_type": "stream",
     "text": [
      "10\n",
      "None\n"
     ]
    }
   ],
   "source": [
    "#Doc \n",
    "def newfun(a,b):\n",
    "    multiply = a*b\n",
    "    print(multiply)\n",
    "    #return multiply\n",
    "s = newfun(2,5)\n",
    "print(s)\n",
    "#print(newfun. --doc--)"
   ]
  },
  {
   "cell_type": "code",
   "execution_count": 13,
   "id": "664bb983",
   "metadata": {},
   "outputs": [
    {
     "name": "stdout",
     "output_type": "stream",
     "text": [
      "10\n",
      "This is function which will calculate the product (this is a docstring)\n"
     ]
    }
   ],
   "source": [
    "def newfun(a,b):\n",
    "    \"\"\"This is function which will calculate the product (this is a docstring)\"\"\"\n",
    "    #Python objects have an attribute called __doc__ that provides a documentation of the object. \n",
    "    multiply = a*b\n",
    "    #print(multiply)\n",
    "    return multiply\n",
    "s = newfun(2,5)\n",
    "print(s)\n",
    "print(newfun. __doc__)"
   ]
  },
  {
   "cell_type": "code",
   "execution_count": 20,
   "id": "dad3c5b1",
   "metadata": {},
   "outputs": [
    {
     "name": "stdout",
     "output_type": "stream",
     "text": [
      "Something went wrong\n",
      "The 'try except' is finished\n"
     ]
    }
   ],
   "source": [
    "try:\n",
    "  print(x)\n",
    "except:\n",
    "  print(\"Something went wrong\")\n",
    "finally:\n",
    "  print(\"The 'try except' is finished\")"
   ]
  },
  {
   "cell_type": "code",
   "execution_count": 3,
   "id": "f6727c00",
   "metadata": {},
   "outputs": [
    {
     "name": "stdout",
     "output_type": "stream",
     "text": [
      "enter a number\n",
      "4\n",
      "enter another number\n",
      "6\n",
      "the sum of two numbers is:  10\n"
     ]
    }
   ],
   "source": [
    "#Try and Except\n",
    "print(\"enter a number\")\n",
    "num1 = input()\n",
    "print(\"enter another number\")\n",
    "num2 = input()\n",
    "\n",
    "try:\n",
    "    print(\"the sum of two numbers is: \", int(num1) + int(num2))\n",
    "          \n",
    "except Exception as e:\n",
    "    print(e)\n",
    "          \n",
    "#print(\"this is very important line\")"
   ]
  },
  {
   "cell_type": "code",
   "execution_count": 1,
   "id": "fb4d2bff",
   "metadata": {},
   "outputs": [
    {
     "data": {
      "text/plain": [
       "'\\n\\n\"r\" Open file for reading - default mode \"w\" Open files for writing\\n\"x\" Create file if not exists\\n\"a\" Add more content to a file\\n\"t\" Text mode - default mode \\n\"b\" Binary mode\\n\"+\" Read and write\\n'"
      ]
     },
     "execution_count": 1,
     "metadata": {},
     "output_type": "execute_result"
    }
   ],
   "source": [
    "#File IO Basics\n",
    "\"\"\"\n",
    "\n",
    "\"r\" Open file for reading - default mode \\\n",
    "\"w\" Open files for writing\n",
    "\"x\" Create file if not exists\n",
    "\"a\" Add more content to a file\n",
    "\"t\" Text mode - default mode \n",
    "\"b\" Binary mode\n",
    "\"+\" Read and write\n",
    "\"\"\"\n"
   ]
  },
  {
   "cell_type": "code",
   "execution_count": 3,
   "id": "c548c0a7",
   "metadata": {},
   "outputs": [
    {
     "name": "stdout",
     "output_type": "stream",
     "text": [
      "134\n"
     ]
    }
   ],
   "source": [
    "import random\n",
    "\n",
    "number = random.randint(100,200)\n",
    "print(number)"
   ]
  },
  {
   "cell_type": "code",
   "execution_count": 10,
   "id": "8e11b5d6",
   "metadata": {},
   "outputs": [
    {
     "name": "stdout",
     "output_type": "stream",
     "text": [
      "Veg\n"
     ]
    }
   ],
   "source": [
    "list1 = [\"Veg\", \"fruits\", \"water\", \"milkshake\"]\n",
    "a = random.choice(list1)\n",
    "print(a)"
   ]
  },
  {
   "cell_type": "code",
   "execution_count": 28,
   "id": "6eb615c2",
   "metadata": {},
   "outputs": [
    {
     "name": "stdout",
     "output_type": "stream",
     "text": [
      "Hi, ,myself osama shakeel, ai enthusist and learing data science.\n",
      "this is the second line just for practice purpose.\n",
      "This is the third line.\n"
     ]
    }
   ],
   "source": [
    "f = open(\"write.txt\") #rt is the default mode\n",
    "content = f.read()\n",
    "print(content)\n",
    "\n",
    "f.close()"
   ]
  },
  {
   "cell_type": "code",
   "execution_count": 14,
   "id": "6cbf4487",
   "metadata": {},
   "outputs": [
    {
     "name": "stdout",
     "output_type": "stream",
     "text": [
      "fg\n"
     ]
    }
   ],
   "source": [
    "print(\"fg\")"
   ]
  },
  {
   "cell_type": "code",
   "execution_count": 25,
   "id": "1327a200",
   "metadata": {},
   "outputs": [
    {
     "name": "stdout",
     "output_type": "stream",
     "text": [
      "Hi, ,myself osama shakeel, ai enthusist and learing data science.\n",
      "this is the second line just for practice purpose.\n",
      "This is the third line.\n"
     ]
    }
   ],
   "source": [
    "f = open(\"write.txt\", \"r\") #than rb\n",
    "content = f.read()\n",
    "#f function return to file ponter\n",
    "print(content)\n",
    "f.close()\n",
    "#if you open a file than you must close it"
   ]
  },
  {
   "cell_type": "code",
   "execution_count": 18,
   "id": "be7276ed",
   "metadata": {},
   "outputs": [
    {
     "name": "stdout",
     "output_type": "stream",
     "text": [
      "Hi,\n"
     ]
    }
   ],
   "source": [
    "f = open(\"write.txt\", \"r\")\n",
    "content = f.read(3) #F.read(3)\n",
    "print(content)\n",
    "f.close()"
   ]
  },
  {
   "cell_type": "code",
   "execution_count": 52,
   "id": "86acb7ee",
   "metadata": {},
   "outputs": [
    {
     "name": "stdout",
     "output_type": "stream",
     "text": [
      "\n",
      "\n"
     ]
    }
   ],
   "source": [
    "f = open(\"write.txt\")\n",
    "content = f.read()\n",
    "#print(content)\n",
    "print(f.readline())\n",
    "#print(f.readline()) #to read a single line\n",
    "print(f.readline())\n",
    "\n",
    "f.close()"
   ]
  },
  {
   "cell_type": "code",
   "execution_count": 38,
   "id": "55d0e1f5",
   "metadata": {},
   "outputs": [],
   "source": [
    "f = open(\"write2.txt\" , \"w\")\n",
    "f.write(\"Best youtube Channel for python is fun with data science \\n\")\n",
    "\n",
    "f.close()"
   ]
  },
  {
   "cell_type": "code",
   "execution_count": 39,
   "id": "6a6e5899",
   "metadata": {},
   "outputs": [
    {
     "name": "stdout",
     "output_type": "stream",
     "text": [
      "Best youtube Channel for python is fun with data science \n",
      "Best youtube Channel for python is fun with data science \n",
      "\n"
     ]
    }
   ],
   "source": [
    "f = open(\"write2.txt\" , \"a\") #Open in append mode\n",
    "f.write(\"Best youtube Channel for python is fun with data science \\n\")\n",
    "\n",
    "f.close()\n",
    "\n",
    "f = open(\"write2.txt\", \"r\")\n",
    "content = f.read()\n",
    "print(content)\n",
    "f.close()"
   ]
  },
  {
   "cell_type": "code",
   "execution_count": 40,
   "id": "9ce83c54",
   "metadata": {},
   "outputs": [
    {
     "name": "stdout",
     "output_type": "stream",
     "text": [
      "31\n"
     ]
    }
   ],
   "source": [
    "#For Seeing how many characters you have written\n",
    "f = open(\"write2.txt\",\"w\")\n",
    "a = f.write(\"best youtube channel for python\")\n",
    "print(a)\n",
    "f.close()"
   ]
  },
  {
   "cell_type": "code",
   "execution_count": 41,
   "id": "5d6136f7",
   "metadata": {},
   "outputs": [
    {
     "name": "stdout",
     "output_type": "stream",
     "text": [
      "31\n"
     ]
    }
   ],
   "source": [
    "#Open file in write mode\n",
    "f = open(\"write2.txt\",\"w\")\n",
    "a = f.write(\"best youtube channel for python\")\n",
    "print(a)\n",
    "f.close()"
   ]
  },
  {
   "cell_type": "code",
   "execution_count": 42,
   "id": "e5f1da7c",
   "metadata": {},
   "outputs": [
    {
     "name": "stdout",
     "output_type": "stream",
     "text": [
      "31\n"
     ]
    }
   ],
   "source": [
    "#Open file in append mode\n",
    "f = open(\"write2.txt\",\"a\")\n",
    "a = f.write(\"best youtube channel for python\")\n",
    "print(a)\n",
    "f.close()"
   ]
  },
  {
   "cell_type": "code",
   "execution_count": 49,
   "id": "cc72fc40",
   "metadata": {},
   "outputs": [
    {
     "name": "stdout",
     "output_type": "stream",
     "text": [
      "do it nowdo it nowdo it nowdo it now\n"
     ]
    }
   ],
   "source": [
    "#handle read and write both \n",
    "f = open(\"write2.txt\", \"r+\")\n",
    "print(f.read())\n",
    "f.write(\"do it now\")\n",
    "f.close()"
   ]
  },
  {
   "cell_type": "code",
   "execution_count": 53,
   "id": "45948c3d",
   "metadata": {},
   "outputs": [
    {
     "name": "stdout",
     "output_type": "stream",
     "text": [
      "0\n",
      "Hi, ,myself osama shakeel, ai enthusist and learing data science.\n",
      "\n",
      "66\n",
      "myself osama shakeel, ai enthusist and learing data science.\n",
      "\n"
     ]
    }
   ],
   "source": [
    "f = open(\"write.txt\")\n",
    "print(f.tell()) #use to tell the position of file\n",
    "print(f.readline())\n",
    "print(f.tell())\n",
    "f.seek(5) #Use this when you want to read from a particular point\n",
    "print(f.readline())"
   ]
  },
  {
   "cell_type": "code",
   "execution_count": 56,
   "id": "43edac70",
   "metadata": {},
   "outputs": [
    {
     "name": "stdout",
     "output_type": "stream",
     "text": [
      "Hi, ,myself osama sh\n",
      "akeel, ai enthusist and learing data science.\n",
      "\n"
     ]
    }
   ],
   "source": [
    "with open(\"write.txt\") as f:\n",
    "    a = f.read(20) #with function read the value to that point/till that value as compare to seek function which read from value/point\n",
    "    print(a)\n",
    "f = open(\"write.txt\")\n",
    "f.seek(20)\n",
    "print(f.readline())"
   ]
  },
  {
   "cell_type": "code",
   "execution_count": 69,
   "id": "7747e95a",
   "metadata": {},
   "outputs": [
    {
     "name": "stdout",
     "output_type": "stream",
     "text": [
      "Local vs Global Variable\n",
      "60 8\n",
      "60 I have printed\n"
     ]
    }
   ],
   "source": [
    "#Global and Local Variables\n",
    "#Global varibale means any number of functions that can use this variable inside the program\n",
    "#Any function can use this functions\n",
    "#Declare outside the function\n",
    "#Local varibales are the ones who are declared inside the function\n",
    "#local varible can be accessed by specific function\n",
    "print(\"Local vs Global Variable\")\n",
    "#First sees the local scope than the variable scope\n",
    "l = 10;  # global varible\n",
    "\n",
    "def function(n):\n",
    "    #l = 5; # Local variable\n",
    "   # print(l)\n",
    "    m = 8\n",
    "    global l\n",
    "    l= l+50\n",
    "    print(l,m)\n",
    "    print(l,\"I have printed\")\n",
    "    \n",
    "function(\"this is me\")\n",
    "    \n",
    "    \n"
   ]
  },
  {
   "cell_type": "code",
   "execution_count": 74,
   "id": "8f239f8c",
   "metadata": {},
   "outputs": [
    {
     "name": "stdout",
     "output_type": "stream",
     "text": [
      "before calling two() 20\n",
      "after calling two 20\n",
      "38\n"
     ]
    }
   ],
   "source": [
    "def one():\n",
    "    x= 20\n",
    "    def two():\n",
    "        global x\n",
    "        x = 38\n",
    "    print(\"before calling two()\", x)\n",
    "    two()\n",
    "    print(\"after calling two\",x)\n",
    "    \n",
    "one()\n",
    "print(x)"
   ]
  },
  {
   "cell_type": "code",
   "execution_count": 77,
   "id": "375d0294",
   "metadata": {},
   "outputs": [
    {
     "name": "stdout",
     "output_type": "stream",
     "text": [
      "before calling two() 20\n",
      "after calling two 38\n"
     ]
    }
   ],
   "source": [
    "x= 20\n",
    "def one():\n",
    "    \n",
    "    def two():\n",
    "        \n",
    "        global x\n",
    "        x = 38\n",
    "    print(\"before calling two()\", x)\n",
    "    two()\n",
    "    print(\"after calling two\",x)\n",
    "    \n",
    "one()"
   ]
  },
  {
   "cell_type": "code",
   "execution_count": 82,
   "id": "d1513e38",
   "metadata": {},
   "outputs": [
    {
     "name": "stdout",
     "output_type": "stream",
     "text": [
      "enter a number5\n",
      "factorial using iterative aproach :  120\n",
      "enter a number1\n",
      "Factorial using recursion approach : 1\n"
     ]
    }
   ],
   "source": [
    "#Recursion and Iterration\n",
    "#Recusrsion is declaring a function inside a function\n",
    "def factorial_iterative(n): #n! = n*(n-1)*(n-2)*(n-3)....\n",
    "    fac = 1\n",
    "    for i in range(n):\n",
    "        fac = fac * (i+1)\n",
    "        \n",
    "    return fac\n",
    "\n",
    "number = int(input(\"enter a number\"))\n",
    "print(\"factorial using iterative aproach : \", factorial_iterative(number))\n",
    "\n",
    "def factorial_recursion(n):\n",
    "    if n==1:\n",
    "        return 1\n",
    "    else:\n",
    "        return n*factorial_recursion((n-1))\n",
    "number = int(input(\"enter a number\"))\n",
    "print(\"Factorial using recursion approach :\", factorial_recursion(number))"
   ]
  },
  {
   "cell_type": "code",
   "execution_count": 91,
   "id": "59566bab",
   "metadata": {},
   "outputs": [
    {
     "name": "stdout",
     "output_type": "stream",
     "text": [
      "13\n",
      "5\n",
      "5\n"
     ]
    }
   ],
   "source": [
    "#Lambda Function or Anonymous Function\n",
    "def add(a,b):\n",
    "    return a+b\n",
    "print(add(9,4))\n",
    "\n",
    "\n",
    "\n",
    "def minus(x,y):\n",
    "    return x-y\n",
    "print(minus(9,4))   \n",
    "\n",
    "#lambda keyword is used to make lamda function\n",
    "minus = lambda x,y :x-y\n",
    "print(minus(9,4))"
   ]
  },
  {
   "cell_type": "code",
   "execution_count": 93,
   "id": "ba447be1",
   "metadata": {},
   "outputs": [
    {
     "name": "stdout",
     "output_type": "stream",
     "text": [
      "[[9, 6], [8, 23], [1, 41]]\n"
     ]
    }
   ],
   "source": [
    "def a_first(a):\n",
    "    return a[1]\n",
    "a =[[1,41], [9,6],[8,23]]\n",
    "a.sort(key=a_first)\n",
    "print(a)"
   ]
  },
  {
   "cell_type": "code",
   "execution_count": 94,
   "id": "ab2bf3d3",
   "metadata": {},
   "outputs": [
    {
     "name": "stdout",
     "output_type": "stream",
     "text": [
      "[[1, 41], [8, 23], [9, 6]]\n"
     ]
    }
   ],
   "source": [
    "def a_first(a):\n",
    "    return a[0]\n",
    "a =[[1,41], [9,6],[8,23]]\n",
    "a.sort(key=a_first)\n",
    "print(a)"
   ]
  },
  {
   "cell_type": "code",
   "execution_count": 96,
   "id": "b9ed2aad",
   "metadata": {},
   "outputs": [
    {
     "name": "stdout",
     "output_type": "stream",
     "text": [
      "[[9, 6], [8, 23], [1, 41]]\n"
     ]
    }
   ],
   "source": [
    "a =[[1,41], [9,6],[8,23]]\n",
    "a.sort(key=lambda x:x[1])\n",
    "print(a)"
   ]
  },
  {
   "cell_type": "code",
   "execution_count": 97,
   "id": "ef1d3c7d",
   "metadata": {},
   "outputs": [
    {
     "name": "stdout",
     "output_type": "stream",
     "text": [
      "[[1, 41], [8, 23], [9, 6]]\n"
     ]
    }
   ],
   "source": [
    "a =[[1,41], [9,6],[8,23]]\n",
    "a.sort(key=lambda x:x[0])\n",
    "print(a)"
   ]
  },
  {
   "cell_type": "code",
   "execution_count": 98,
   "id": "3f18a3ad",
   "metadata": {},
   "outputs": [
    {
     "name": "stdout",
     "output_type": "stream",
     "text": [
      "my name is Osama 10\n"
     ]
    }
   ],
   "source": [
    "#F-STRING\n",
    "#f string is used when we want to print some variable inside a string or some sort of thing \n",
    "my = \"Osama\"\n",
    "s =10\n",
    "s1 = f\"my name is {my} {s}\"\n",
    "print(s1)"
   ]
  },
  {
   "cell_type": "code",
   "execution_count": null,
   "id": "298673bf",
   "metadata": {},
   "outputs": [],
   "source": []
  }
 ],
 "metadata": {
  "kernelspec": {
   "display_name": "Python 3",
   "language": "python",
   "name": "python3"
  },
  "language_info": {
   "codemirror_mode": {
    "name": "ipython",
    "version": 3
   },
   "file_extension": ".py",
   "mimetype": "text/x-python",
   "name": "python",
   "nbconvert_exporter": "python",
   "pygments_lexer": "ipython3",
   "version": "3.8.8"
  }
 },
 "nbformat": 4,
 "nbformat_minor": 5
}
