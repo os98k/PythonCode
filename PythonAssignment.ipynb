{
 "cells": [
  {
   "cell_type": "markdown",
   "id": "993de368",
   "metadata": {},
   "source": [
    "## Q1: Write a Python program to print the following string in a specific format (see the output).\n"
   ]
  },
  {
   "cell_type": "code",
   "execution_count": 19,
   "id": "e13232c9",
   "metadata": {},
   "outputs": [
    {
     "data": {
      "text/plain": [
       "' \\nTwinkle, twinkle, little star, \\nHow I wonder what you are!\\nUp above the world so high,\\nLike a diamond in the sky.\\n\\nTwinkle, twinkle, little star,\\nHow I wonder what you are\\n'"
      ]
     },
     "execution_count": 19,
     "metadata": {},
     "output_type": "execute_result"
    }
   ],
   "source": [
    "\"\"\" \n",
    "Twinkle, twinkle, little star, \n",
    "How I wonder what you are!\n",
    "Up above the world so high,\n",
    "Like a diamond in the sky.\n",
    "\n",
    "Twinkle, twinkle, little star,\n",
    "How I wonder what you are\n",
    "\"\"\""
   ]
  },
  {
   "cell_type": "code",
   "execution_count": 15,
   "id": "510c5502",
   "metadata": {},
   "outputs": [
    {
     "name": "stdout",
     "output_type": "stream",
     "text": [
      "Twinkle Twinkle, little star, \n",
      " How I wonder what you are! \n",
      " Up above the world so high, \n",
      " Like a diamond in the sky. \n",
      " \n",
      " Twinkle, twinkle, little star, \n",
      " How I wonder what you are\n"
     ]
    }
   ],
   "source": [
    "print(\"Twinkle Twinkle, little star, \\n How I wonder what you are! \\n Up above the world so high, \\n Like a diamond in the sky. \\n \\n Twinkle, twinkle, little star, \\n How I wonder what you are\");"
   ]
  },
  {
   "cell_type": "code",
   "execution_count": 12,
   "id": "f857711d",
   "metadata": {},
   "outputs": [
    {
     "name": "stdout",
     "output_type": "stream",
     "text": [
      "Twinkle, twinkle, little star,\n",
      "How I wonder what you are!\n",
      "Up above the world so high,\n",
      "Like a diamond in the sky.\n",
      "\n",
      "Twinkle, twinkle, little star,\n",
      "How I wonder what you are\n"
     ]
    }
   ],
   "source": [
    "print(\"Twinkle, twinkle, little star,\");\n",
    "print(\"How I wonder what you are!\");\n",
    "print(\"Up above the world so high,\");\n",
    "print(\"Like a diamond in the sky.\");\n",
    "print(\"\");\n",
    "print(\"Twinkle, twinkle, little star,\");\n",
    "print(\"How I wonder what you are\");"
   ]
  },
  {
   "cell_type": "markdown",
   "id": "5bb1dbd7",
   "metadata": {},
   "source": [
    "## Q2. Write a Python program to get the Python version you are using"
   ]
  },
  {
   "cell_type": "code",
   "execution_count": 13,
   "id": "ef044016",
   "metadata": {},
   "outputs": [],
   "source": [
    "import sys"
   ]
  },
  {
   "cell_type": "code",
   "execution_count": 14,
   "id": "557dbf74",
   "metadata": {},
   "outputs": [
    {
     "name": "stdout",
     "output_type": "stream",
     "text": [
      "3.8.8 (default, Apr 13 2021, 15:08:03) [MSC v.1916 64 bit (AMD64)]\n"
     ]
    }
   ],
   "source": [
    "print(sys.version)"
   ]
  },
  {
   "cell_type": "markdown",
   "id": "157408b9",
   "metadata": {},
   "source": [
    "# Q3. Write a Python program to display the current date and time."
   ]
  },
  {
   "cell_type": "code",
   "execution_count": 20,
   "id": "ee2a2a5a",
   "metadata": {},
   "outputs": [],
   "source": [
    "import datetime"
   ]
  },
  {
   "cell_type": "code",
   "execution_count": 32,
   "id": "d0f7b6ee",
   "metadata": {},
   "outputs": [
    {
     "name": "stdout",
     "output_type": "stream",
     "text": [
      "Current date and Time is :\n",
      "2021-10-23 07:57:50\n"
     ]
    }
   ],
   "source": [
    "now = datetime.datetime.now();\n",
    "print(\"Current date and Time is :\")\n",
    "print(now.strftime(\"%Y-%m-%d %H:%M:%S\"))"
   ]
  },
  {
   "cell_type": "markdown",
   "id": "592d6b32",
   "metadata": {},
   "source": [
    "# Q4: Write a Python program which accepts the radius of a circle from the user and compute the area."
   ]
  },
  {
   "cell_type": "code",
   "execution_count": 40,
   "id": "ae6e53d5",
   "metadata": {},
   "outputs": [
    {
     "name": "stdout",
     "output_type": "stream",
     "text": [
      "Input the radius of circle to get radius 2\n",
      "area of circle with radius   2.0 is: 12.566370614359172\n"
     ]
    }
   ],
   "source": [
    "from math import pi\n",
    "r = float(input(\"Input the radius of circle to get radius \"));\n",
    "#Area of circle is πr^2\n",
    "print(\"area of circle with radius   \" + str(r) + \" is: \" + str(pi*r**2));"
   ]
  },
  {
   "cell_type": "markdown",
   "id": "5fca4f07",
   "metadata": {},
   "source": [
    "# Q5. Write a Python program which accepts the user's first and last name and print them in reverse order with a space between them."
   ]
  },
  {
   "cell_type": "code",
   "execution_count": 45,
   "id": "1beec0a4",
   "metadata": {},
   "outputs": [
    {
     "name": "stdout",
     "output_type": "stream",
     "text": [
      "Input your First Name : 45\n",
      "Input your Last Name : 56\n",
      "Hello  56 45\n"
     ]
    }
   ],
   "source": [
    "fname = input(\"Input your First Name : \");\n",
    "lname = input(\"Input your Last Name : \");\n",
    "print (\"Hello  \" + lname + \" \" + fname);"
   ]
  },
  {
   "cell_type": "markdown",
   "id": "783f8c55",
   "metadata": {},
   "source": [
    "# Q6. Write a python program which takes two inputs from user and print them addition"
   ]
  },
  {
   "cell_type": "code",
   "execution_count": 48,
   "id": "c4ae4af2",
   "metadata": {},
   "outputs": [
    {
     "name": "stdout",
     "output_type": "stream",
     "text": [
      "Enter your number for sum\n",
      "Enter first number 23\n",
      "Enter second number 23\n",
      "sum of two numbers is  46\n"
     ]
    }
   ],
   "source": [
    "print(\"Enter your number for sum\");\n",
    "a = int(input(\"Enter first number \"));\n",
    "b = int(input(\"Enter second number \"));\n",
    "sum = a+b;\n",
    "print(\"sum of two numbers is \", sum);"
   ]
  },
  {
   "cell_type": "markdown",
   "id": "ce82a97b",
   "metadata": {},
   "source": [
    "# Q7. Write a program which takes 5 inputs from user for different subject’s marks, total it and generate mark sheet using grades ?"
   ]
  },
  {
   "cell_type": "code",
   "execution_count": 16,
   "id": "260b556e",
   "metadata": {},
   "outputs": [
    {
     "name": "stdout",
     "output_type": "stream",
     "text": [
      "Enter your Roll number 12\n",
      "Enter your Name osama\n",
      "Enter your gender male\n",
      "enter english marks 90\n",
      "enter islamyat marks 89\n",
      "enter math marks 99\n",
      "enter urdu marks 90\n",
      "enter ps marks 90\n",
      "A+\n"
     ]
    }
   ],
   "source": [
    "rollno = int(input(\"Enter your Roll number \"));\n",
    "name = input(\"Enter your Name \");\n",
    "gender= input(\"Enter your gender \");\n",
    "\n",
    "english= int(input(\"enter english marks \"));\n",
    "islamyat= int(input(\"enter islamyat marks \"));\n",
    "math= int(input(\"enter math marks \"));\n",
    "urdu= int(input(\"enter urdu marks \"));\n",
    "ps= int(input(\"enter ps marks \"));\n",
    "\n",
    "\n",
    "tot=300;\n",
    "obt= english + math + islamyat;\n",
    "\n",
    "\n",
    "per= (obt/tot)*100;\n",
    "\n",
    "if per>=80 and per < 100:\n",
    "    print(\"A+\");\n",
    "\n",
    "elif per>=70 and per < 80:\n",
    "    print(\"A\");\n",
    "    \n",
    "elif per>=60 and per < 70:\n",
    "    print(\"B\");\n",
    "    \n",
    "elif per>=50 and per < 60:\n",
    "    print(\"C\");\n",
    "    \n",
    "elif per>=40 and per < 50:\n",
    "    print(\"C\");\n",
    "    \n",
    "elif per>=33 and per < 40:\n",
    "    print(\"D\");\n",
    "    \n",
    "elif per<33 :\n",
    "    print(\"Fail\");\n",
    "    \n",
    "elif per <0 or per >100:\n",
    "    print(\"You didn't input a write value\");\n",
    "    \n",
    "else:\n",
    "    print(\"fail\")"
   ]
  },
  {
   "cell_type": "code",
   "execution_count": null,
   "id": "2ae3585e",
   "metadata": {},
   "outputs": [],
   "source": [
    "print(\"hello world\");"
   ]
  },
  {
   "cell_type": "markdown",
   "id": "97475b94",
   "metadata": {},
   "source": [
    "# Q8. Write a program which take input from user and identify that the given number is even or odd?"
   ]
  },
  {
   "cell_type": "code",
   "execution_count": 3,
   "id": "49313661",
   "metadata": {},
   "outputs": [
    {
     "name": "stdout",
     "output_type": "stream",
     "text": [
      "Enter a number: 22\n",
      "This is an even number.\n"
     ]
    }
   ],
   "source": [
    "# Python program to check if the input number is odd or even.\n",
    "\n",
    "num = int(input(\"Enter a number: \"))\n",
    "mod = num % 2\n",
    "if mod > 0:\n",
    "    print(\"This is an odd number.\")\n",
    "else:\n",
    "    print(\"This is an even number.\")"
   ]
  },
  {
   "cell_type": "markdown",
   "id": "02313d48",
   "metadata": {},
   "source": [
    "# Q9. Write a program which print the length of the list?"
   ]
  },
  {
   "cell_type": "code",
   "execution_count": 1,
   "id": "b4869052",
   "metadata": {},
   "outputs": [
    {
     "name": "stdout",
     "output_type": "stream",
     "text": [
      "5\n"
     ]
    }
   ],
   "source": [
    "list1 = ['ALI','Mughal','Osama','Shakeel','Python']\n",
    "size = len(list1);\n",
    "print(size);"
   ]
  },
  {
   "cell_type": "markdown",
   "id": "4d2037b0",
   "metadata": {},
   "source": [
    "# Q10. Write a Python program to sum all the numeric items in a list?"
   ]
  },
  {
   "cell_type": "code",
   "execution_count": 2,
   "id": "2ed80e3c",
   "metadata": {},
   "outputs": [
    {
     "name": "stdout",
     "output_type": "stream",
     "text": [
      "25\n"
     ]
    }
   ],
   "source": [
    "numbers = [1,2,3,4,5,1,4,5] \n",
    "Sum = sum(numbers);\n",
    "print(Sum)"
   ]
  },
  {
   "cell_type": "markdown",
   "id": "a301235f",
   "metadata": {},
   "source": [
    "# Q11. Write a Python program to get the largest number from a numeric list."
   ]
  },
  {
   "cell_type": "code",
   "execution_count": 11,
   "id": "9e3fd5f6",
   "metadata": {},
   "outputs": [
    {
     "name": "stdout",
     "output_type": "stream",
     "text": [
      "Largest element is: 121\n"
     ]
    }
   ],
   "source": [
    "list1 = [10, 20, 4, 121, 99];\n",
    "\n",
    "#Using max function to print maximum from list\n",
    "\n",
    "print(\"Largest element is:\", max(list1))"
   ]
  },
  {
   "cell_type": "code",
   "execution_count": 13,
   "id": "9826371a",
   "metadata": {},
   "outputs": [
    {
     "name": "stdout",
     "output_type": "stream",
     "text": [
      "Largest element is: 121\n"
     ]
    }
   ],
   "source": [
    "#sort the list to get highest at end\n",
    "\n",
    "list1.sort()\n",
    "  \n",
    "print(\"Largest element is:\", list1[-1])"
   ]
  },
  {
   "cell_type": "markdown",
   "id": "dfd24cd9",
   "metadata": {},
   "source": [
    "# Q12. Write a program that prints out all the elements of the list that are less than 5."
   ]
  },
  {
   "cell_type": "code",
   "execution_count": 15,
   "id": "664ef4c0",
   "metadata": {},
   "outputs": [
    {
     "data": {
      "text/plain": [
       "'\\nTake a list, say for example this one:\\na = [1, 1, 2, 3, 5, 8, 13, 21, 34, 55, 89]\\n\\n'"
      ]
     },
     "execution_count": 15,
     "metadata": {},
     "output_type": "execute_result"
    }
   ],
   "source": [
    "\"\"\"\n",
    "Take a list, say for example this one:\n",
    "a = [1, 1, 2, 3, 5, 8, 13, 21, 34, 55, 89]\n",
    "\n",
    "\"\"\""
   ]
  },
  {
   "cell_type": "code",
   "execution_count": 14,
   "id": "866edaf6",
   "metadata": {},
   "outputs": [
    {
     "name": "stdout",
     "output_type": "stream",
     "text": [
      "1\n",
      "1\n",
      "2\n",
      "3\n"
     ]
    }
   ],
   "source": [
    "a = [1, 1, 2, 3, 5, 8, 13, 21, 34, 55, 89]\n",
    "\n",
    "for i in a:\n",
    "\n",
    "    if i < 5:\n",
    "\n",
    "        print(i)"
   ]
  }
 ],
 "metadata": {
  "kernelspec": {
   "display_name": "Python 3",
   "language": "python",
   "name": "python3"
  },
  "language_info": {
   "codemirror_mode": {
    "name": "ipython",
    "version": 3
   },
   "file_extension": ".py",
   "mimetype": "text/x-python",
   "name": "python",
   "nbconvert_exporter": "python",
   "pygments_lexer": "ipython3",
   "version": "3.8.8"
  }
 },
 "nbformat": 4,
 "nbformat_minor": 5
}
