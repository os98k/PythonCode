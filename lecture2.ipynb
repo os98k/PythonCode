{
 "cells": [
  {
   "cell_type": "code",
   "execution_count": 1,
   "id": "34bc243c",
   "metadata": {},
   "outputs": [
    {
     "name": "stdout",
     "output_type": "stream",
     "text": [
      "hello worlf\n"
     ]
    }
   ],
   "source": [
    "print('hello worlf')"
   ]
  },
  {
   "cell_type": "code",
   "execution_count": 2,
   "id": "0358be7f",
   "metadata": {},
   "outputs": [
    {
     "name": "stdout",
     "output_type": "stream",
     "text": [
      "hello world\n"
     ]
    }
   ],
   "source": [
    "print('hello world');"
   ]
  },
  {
   "cell_type": "code",
   "execution_count": 4,
   "id": "ece1fe4e",
   "metadata": {},
   "outputs": [
    {
     "name": "stdout",
     "output_type": "stream",
     "text": [
      "variable is a reserved memory location for to store values\n"
     ]
    }
   ],
   "source": [
    "print('variable is a reserved memory location for to store values');\n"
   ]
  },
  {
   "cell_type": "code",
   "execution_count": 6,
   "id": "a91d9a1a",
   "metadata": {},
   "outputs": [
    {
     "name": "stdout",
     "output_type": "stream",
     "text": [
      "variable allocate or reserved or space the chunk area of memory to store value\n"
     ]
    }
   ],
   "source": [
    "print('variable allocate or reserved or space the chunk area of memory to store value');"
   ]
  },
  {
   "cell_type": "code",
   "execution_count": 7,
   "id": "72163c11",
   "metadata": {},
   "outputs": [
    {
     "name": "stdout",
     "output_type": "stream",
     "text": [
      "variable can not have number before text or special character except dollar sign\n"
     ]
    }
   ],
   "source": [
    "print('variable can not have number before text or special character except dollar sign');"
   ]
  },
  {
   "cell_type": "code",
   "execution_count": 8,
   "id": "5c04c0d8",
   "metadata": {},
   "outputs": [
    {
     "name": "stdout",
     "output_type": "stream",
     "text": [
      "11\n"
     ]
    }
   ],
   "source": [
    "a=5;\n",
    "b=6;\n",
    "c=a+b;\n",
    "print(c)"
   ]
  },
  {
   "cell_type": "code",
   "execution_count": 10,
   "id": "6aaba74b",
   "metadata": {},
   "outputs": [
    {
     "name": "stdout",
     "output_type": "stream",
     "text": [
      "ali mughal\n"
     ]
    }
   ],
   "source": [
    "x= \"ali \";\n",
    "y=\"mughal\"\n",
    "z=x+y;\n",
    "print(z)"
   ]
  },
  {
   "cell_type": "code",
   "execution_count": null,
   "id": "43f75059",
   "metadata": {},
   "outputs": [],
   "source": [
    "# Concatenate \n",
    "f=\"4 \";\n",
    "g=\"8\";\n",
    "h=f+g;\n",
    "print(h);"
   ]
  },
  {
   "cell_type": "code",
   "execution_count": 14,
   "id": "7b929ca7",
   "metadata": {},
   "outputs": [
    {
     "ename": "TypeError",
     "evalue": "can only concatenate str (not \"int\") to str",
     "output_type": "error",
     "traceback": [
      "\u001b[1;31m---------------------------------------------------------------------------\u001b[0m",
      "\u001b[1;31mTypeError\u001b[0m                                 Traceback (most recent call last)",
      "\u001b[1;32m<ipython-input-14-29595336fed8>\u001b[0m in \u001b[0;36m<module>\u001b[1;34m\u001b[0m\n\u001b[0;32m      1\u001b[0m \u001b[0ma\u001b[0m\u001b[1;33m=\u001b[0m\u001b[1;34m\"10\"\u001b[0m\u001b[1;33m;\u001b[0m\u001b[1;33m\u001b[0m\u001b[1;33m\u001b[0m\u001b[0m\n\u001b[0;32m      2\u001b[0m \u001b[0mb\u001b[0m\u001b[1;33m=\u001b[0m\u001b[1;36m20\u001b[0m\u001b[1;33m;\u001b[0m\u001b[1;33m\u001b[0m\u001b[1;33m\u001b[0m\u001b[0m\n\u001b[1;32m----> 3\u001b[1;33m \u001b[0mc\u001b[0m\u001b[1;33m=\u001b[0m\u001b[0ma\u001b[0m\u001b[1;33m+\u001b[0m\u001b[0mb\u001b[0m\u001b[1;33m;\u001b[0m\u001b[1;33m\u001b[0m\u001b[1;33m\u001b[0m\u001b[0m\n\u001b[0m\u001b[0;32m      4\u001b[0m \u001b[0mprint\u001b[0m\u001b[1;33m(\u001b[0m\u001b[0mc\u001b[0m\u001b[1;33m)\u001b[0m\u001b[1;33m\u001b[0m\u001b[1;33m\u001b[0m\u001b[0m\n",
      "\u001b[1;31mTypeError\u001b[0m: can only concatenate str (not \"int\") to str"
     ]
    }
   ],
   "source": [
    "a=\"10\";\n",
    "b=20;\n",
    "c=a+b;\n",
    "print(c)"
   ]
  },
  {
   "cell_type": "code",
   "execution_count": null,
   "id": "5fe30212",
   "metadata": {},
   "outputs": [],
   "source": [
    "x=8;\n",
    "y= x+7;\n",
    "z=y-x+1;\n",
    "\n",
    "#division multiplicarion addition and than subtraction\n",
    "\n",
    "print(z);"
   ]
  },
  {
   "cell_type": "code",
   "execution_count": 19,
   "id": "ad6f656d",
   "metadata": {},
   "outputs": [
    {
     "name": "stdout",
     "output_type": "stream",
     "text": [
      "55.0\n"
     ]
    }
   ],
   "source": [
    "a= 12-4 / 2 + 9 * 5\n",
    "\n",
    "print(a);\n"
   ]
  },
  {
   "cell_type": "code",
   "execution_count": 21,
   "id": "be41946d",
   "metadata": {},
   "outputs": [
    {
     "name": "stdout",
     "output_type": "stream",
     "text": [
      "3.6363636363636367\n"
     ]
    }
   ],
   "source": [
    "a=((12-4)/(2+9)*5);\n",
    "\n",
    "#REDUCTION OF REDUNCY\n",
    "\n",
    "print(a);"
   ]
  },
  {
   "cell_type": "code",
   "execution_count": 26,
   "id": "4aeee020",
   "metadata": {},
   "outputs": [
    {
     "name": "stdout",
     "output_type": "stream",
     "text": [
      "1\n"
     ]
    }
   ],
   "source": [
    "x=10;\n",
    "y=x % 3;\n",
    "print(y);"
   ]
  },
  {
   "cell_type": "code",
   "execution_count": 28,
   "id": "33f6db0e",
   "metadata": {},
   "outputs": [
    {
     "name": "stdout",
     "output_type": "stream",
     "text": [
      "12\n"
     ]
    }
   ],
   "source": [
    "f= 10;\n",
    "f=12;\n",
    "print(f)"
   ]
  },
  {
   "cell_type": "code",
   "execution_count": 29,
   "id": "bdc8263c",
   "metadata": {},
   "outputs": [
    {
     "name": "stdout",
     "output_type": "stream",
     "text": [
      "11\n"
     ]
    }
   ],
   "source": [
    "f=10;\n",
    "f=f+1;\n",
    "print(f);"
   ]
  },
  {
   "cell_type": "code",
   "execution_count": 31,
   "id": "21a54e0f",
   "metadata": {},
   "outputs": [
    {
     "name": "stdout",
     "output_type": "stream",
     "text": [
      "7\n"
     ]
    }
   ],
   "source": [
    "g=5;\n",
    "g=g+2;\n",
    "print(g);"
   ]
  },
  {
   "cell_type": "code",
   "execution_count": 32,
   "id": "0fd380e3",
   "metadata": {},
   "outputs": [
    {
     "name": "stdout",
     "output_type": "stream",
     "text": [
      "6\n"
     ]
    }
   ],
   "source": [
    "a=3;\n",
    "a+=3;\n",
    "\n",
    "print(a);"
   ]
  },
  {
   "cell_type": "code",
   "execution_count": 36,
   "id": "a4516d69",
   "metadata": {},
   "outputs": [
    {
     "name": "stdout",
     "output_type": "stream",
     "text": [
      "my name is ali mughal\n"
     ]
    }
   ],
   "source": [
    "a=\"ali mughal\";\n",
    "print(\"my name is \" +a);\n",
    "\n",
    "#print(a);"
   ]
  },
  {
   "cell_type": "code",
   "execution_count": 46,
   "id": "0c48eaeb",
   "metadata": {},
   "outputs": [
    {
     "name": "stdout",
     "output_type": "stream",
     "text": [
      "allow for ride\n"
     ]
    }
   ],
   "source": [
    "gender= \"male\"\n",
    "if gender == \"male\":\n",
    "\n",
    " print(\"allow for ride\");"
   ]
  },
  {
   "cell_type": "code",
   "execution_count": 47,
   "id": "ec6b80ce",
   "metadata": {},
   "outputs": [
    {
     "name": "stdout",
     "output_type": "stream",
     "text": [
      "dont let her to go\n"
     ]
    }
   ],
   "source": [
    "gender = \"female\"\n",
    "if gender==\"female\":\n",
    "    \n",
    " print(\"dont let her to go\");"
   ]
  },
  {
   "cell_type": "code",
   "execution_count": 53,
   "id": "ab184330",
   "metadata": {},
   "outputs": [
    {
     "name": "stdout",
     "output_type": "stream",
     "text": [
      "don't\n"
     ]
    }
   ],
   "source": [
    "gender= \"male\"\n",
    "if gender ==\"female\":\n",
    "\n",
    " print(\"allow\");\n",
    "else:\n",
    " print(\"don't\");"
   ]
  },
  {
   "cell_type": "code",
   "execution_count": 54,
   "id": "15da3075",
   "metadata": {},
   "outputs": [
    {
     "name": "stdout",
     "output_type": "stream",
     "text": [
      "allow\n"
     ]
    }
   ],
   "source": [
    "\n",
    "gender= \"male\"\n",
    "if gender !=\"female\":\n",
    "\n",
    " print(\"allow\");\n",
    "else:\n",
    " print(\"don't\");\n"
   ]
  },
  {
   "cell_type": "code",
   "execution_count": 59,
   "id": "66b86437",
   "metadata": {},
   "outputs": [
    {
     "name": "stdout",
     "output_type": "stream",
     "text": [
      "allow\n"
     ]
    }
   ],
   "source": [
    "age = 14;\n",
    "gender = \"male\";\n",
    "if age > 14 or gender == \"male\":\n",
    " print(\"allow\");\n",
    "else:\n",
    " print(\"rok lo\");\n",
    "\n"
   ]
  },
  {
   "cell_type": "code",
   "execution_count": 63,
   "id": "512b8eb4",
   "metadata": {},
   "outputs": [
    {
     "name": "stdout",
     "output_type": "stream",
     "text": [
      "Grade A+\n"
     ]
    }
   ],
   "source": [
    "percent = 82;\n",
    "if percent < 100 and percent > 80:\n",
    " print(\"Grade A+\");\n",
    "elif percent <80 and percent >70:\n",
    " print(\"Grade B+\");\n",
    "elif percent <70 and percent > 60:\n",
    " print(\"Grade C+\");\n",
    "elif percent <60 and percent > 50:\n",
    " print(\"Grade D+\");\n",
    "elif percent <50 and percent > 40:\n",
    " print(\"Grade F+\");\n",
    "else:\n",
    " print(\"fail\");"
   ]
  },
  {
   "cell_type": "code",
   "execution_count": 81,
   "id": "e21033b0",
   "metadata": {},
   "outputs": [
    {
     "name": "stdout",
     "output_type": "stream",
     "text": [
      "100.33333333333334\n"
     ]
    }
   ],
   "source": [
    "english = 100;\n",
    "islamyat = 101;\n",
    "math = 100;\n",
    "\n",
    "Total = 300;\n",
    "\n",
    "Obtain = english + islamyat + math;\n",
    "\n",
    "percentage = (Obtain / Total)*100;\n",
    "\n",
    "print(percentage);"
   ]
  },
  {
   "cell_type": "code",
   "execution_count": 82,
   "id": "3fe22b3f",
   "metadata": {},
   "outputs": [
    {
     "name": "stdout",
     "output_type": "stream",
     "text": [
      "A\n"
     ]
    }
   ],
   "source": [
    "if percentage >=80:\n",
    "  print(\"A\");\n",
    "elif percentage >=70:\n",
    " print(\"B\");\n",
    "elif percentage >=60:\n",
    " print(\"c\");\n",
    "elif percentage >=50:\n",
    " print(\"d\");\n",
    "elif percentage >=40:\n",
    " print(\"c\");\n",
    "elif percentage >=30:\n",
    " print(\"fail\");\n",
    "else:\n",
    " print(\"use valid number\");\n",
    "\n"
   ]
  },
  {
   "cell_type": "code",
   "execution_count": 84,
   "id": "992288f7",
   "metadata": {},
   "outputs": [
    {
     "name": "stdout",
     "output_type": "stream",
     "text": [
      "Enter Marks Obtained in 3 Subjects: \n",
      "Your Grade is A1\n"
     ]
    }
   ],
   "source": [
    "print(\"Enter Marks Obtained in 3 Subjects: \")\n",
    "\n",
    "english= 90;\n",
    "islamyat =89;\n",
    "math=94;\n",
    "\n",
    "tot = english + islamyat + math\n",
    "per = tot/3\n",
    "\n",
    "if per>=91 and per<=100:\n",
    "    print(\"Your Grade is A1\")\n",
    "elif per>=81 and per<91:\n",
    "    print(\"Your Grade is A2\")\n",
    "elif per>=71 and per<81:\n",
    "    print(\"Your Grade is B1\")\n",
    "elif per>=61 and per<71:\n",
    "    print(\"Your Grade is B2\")\n",
    "elif per>=51 and per<61:\n",
    "    print(\"Your Grade is C1\")\n",
    "elif per>=41 and per<51:\n",
    "    print(\"Your Grade is C2\")\n",
    "elif per>=33 and per<41:\n",
    "    print(\"Your Grade is D\")\n",
    "elif per>=21 and per<33:\n",
    "    print(\"Your Grade is E1\")\n",
    "elif per>=0 and per<21:\n",
    "    print(\"Your Grade is E2\")\n",
    "else:\n",
    "    print(\"Invalid Input!\")"
   ]
  },
  {
   "cell_type": "code",
   "execution_count": 6,
   "id": "3979332a",
   "metadata": {},
   "outputs": [
    {
     "name": "stdout",
     "output_type": "stream",
     "text": [
      "B\n"
     ]
    }
   ],
   "source": [
    "english=89;\n",
    "islamyat=91;\n",
    "math=9;\n",
    "\n",
    "\n",
    "tot=300;\n",
    "obt= english + math + islamyat;\n",
    "\n",
    "\n",
    "per= (obt/tot)*100;\n",
    "\n",
    "if per>=80 and per < 100:\n",
    "    print(\"A+\");\n",
    "\n",
    "elif per>=70 and per < 80:\n",
    "    print(\"A\");\n",
    "    \n",
    "elif per>=60 and per < 70:\n",
    "    print(\"B\");\n",
    "    \n",
    "elif per>=50 and per < 60:\n",
    "    print(\"C\");\n",
    "    \n",
    "elif per>=40 and per < 50:\n",
    "    print(\"C\");\n",
    "    \n",
    "elif per>=33 and per < 40:\n",
    "    print(\"D\");\n",
    "    \n",
    "elif per<33 :\n",
    "    print(\"Fail\");\n",
    "    \n",
    "elif per <0 or per >100:\n",
    "    print(\"You didn't input a write value\");\n",
    "    \n",
    "else:\n",
    "    print(\"fail\");\n"
   ]
  },
  {
   "cell_type": "code",
   "execution_count": null,
   "id": "32b99914",
   "metadata": {},
   "outputs": [],
   "source": []
  }
 ],
 "metadata": {
  "kernelspec": {
   "display_name": "Python 3",
   "language": "python",
   "name": "python3"
  },
  "language_info": {
   "codemirror_mode": {
    "name": "ipython",
    "version": 3
   },
   "file_extension": ".py",
   "mimetype": "text/x-python",
   "name": "python",
   "nbconvert_exporter": "python",
   "pygments_lexer": "ipython3",
   "version": "3.8.8"
  }
 },
 "nbformat": 4,
 "nbformat_minor": 5
}
