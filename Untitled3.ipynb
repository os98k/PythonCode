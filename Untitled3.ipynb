{
 "cells": [
  {
   "cell_type": "code",
   "execution_count": 1,
   "id": "04c22197",
   "metadata": {},
   "outputs": [
    {
     "name": "stdout",
     "output_type": "stream",
     "text": [
      "enter english marks89\n",
      "enter islamyat marks72\n",
      "enter math marks57\n",
      "A\n"
     ]
    }
   ],
   "source": [
    "english= int(input(\"enter english marks\"));\n",
    "islamyat= int(input(\"enter islamyat marks\"));\n",
    "math= int(input(\"enter math marks\"));\n",
    "\n",
    "\n",
    "tot=300;\n",
    "obt= english + math + islamyat;\n",
    "\n",
    "\n",
    "per= (obt/tot)*100;\n",
    "\n",
    "if per>=80 and per < 100:\n",
    "    print(\"A+\");\n",
    "\n",
    "elif per>=70 and per < 80:\n",
    "    print(\"A\");\n",
    "    \n",
    "elif per>=60 and per < 70:\n",
    "    print(\"B\");\n",
    "    \n",
    "elif per>=50 and per < 60:\n",
    "    print(\"C\");\n",
    "    \n",
    "elif per>=40 and per < 50:\n",
    "    print(\"C\");\n",
    "    \n",
    "elif per>=33 and per < 40:\n",
    "    print(\"D\");\n",
    "    \n",
    "elif per<33 :\n",
    "    print(\"Fail\");\n",
    "    \n",
    "elif per <0 or per >100:\n",
    "    print(\"You didn't input a write value\");\n",
    "    \n",
    "else:\n",
    "    print(\"fail\");"
   ]
  },
  {
   "cell_type": "code",
   "execution_count": 2,
   "id": "51b9df34",
   "metadata": {},
   "outputs": [
    {
     "name": "stdout",
     "output_type": "stream",
     "text": [
      "9\n"
     ]
    }
   ],
   "source": [
    "x=3**2;\n",
    "print(x);"
   ]
  },
  {
   "cell_type": "code",
   "execution_count": 3,
   "id": "a30cdaef",
   "metadata": {},
   "outputs": [
    {
     "name": "stdout",
     "output_type": "stream",
     "text": [
      "81\n"
     ]
    }
   ],
   "source": [
    "y=3**4;\n",
    "print(y);"
   ]
  },
  {
   "cell_type": "code",
   "execution_count": 7,
   "id": "b3a42976",
   "metadata": {},
   "outputs": [
    {
     "name": "stdout",
     "output_type": "stream",
     "text": [
      "Hello\n",
      "World\n"
     ]
    }
   ],
   "source": [
    "print(\"Hello\\nWorld\");"
   ]
  },
  {
   "cell_type": "code",
   "execution_count": 11,
   "id": "a5a41035",
   "metadata": {},
   "outputs": [
    {
     "name": "stdout",
     "output_type": "stream",
     "text": [
      "True\n"
     ]
    }
   ],
   "source": [
    "x=10;\n",
    "y=12;\n",
    "a=30;\n",
    "b=8;\n",
    "\n",
    "if x+y==a-b:\n",
    "\n",
    " print(True)\n",
    "else:\n",
    " print(False);"
   ]
  },
  {
   "cell_type": "code",
   "execution_count": 13,
   "id": "d84ac06d",
   "metadata": {},
   "outputs": [
    {
     "name": "stdout",
     "output_type": "stream",
     "text": [
      "Enter your age23\n",
      "enter your gendermale\n",
      "allow\n"
     ]
    }
   ],
   "source": [
    "age= int(input(\"Enter your age\"));\n",
    "gender= input(\"enter your gender\");\n",
    "\n",
    "if age >20 and gender ==\"male\":\n",
    " print(\"allow\");\n",
    "else:\n",
    " print(\"do not allow\");\n"
   ]
  },
  {
   "cell_type": "code",
   "execution_count": 14,
   "id": "edbc9839",
   "metadata": {},
   "outputs": [
    {
     "name": "stdout",
     "output_type": "stream",
     "text": [
      "Enter your age18\n",
      "enter your gendermale\n",
      "allow\n"
     ]
    }
   ],
   "source": [
    "age= int(input(\"Enter your age\"));\n",
    "gender= input(\"enter your gender\");\n",
    "\n",
    "if age >20 or gender ==\"male\":\n",
    " print(\"allow\");\n",
    "else:\n",
    " print(\"do not allow\");"
   ]
  },
  {
   "cell_type": "code",
   "execution_count": 15,
   "id": "8bb9e9da",
   "metadata": {},
   "outputs": [
    {
     "name": "stdout",
     "output_type": "stream",
     "text": [
      "Hello World\n"
     ]
    }
   ],
   "source": [
    "#Learning List\n",
    "\"\"\"\"We are learning\n",
    "list through this course\"\"\"\n",
    "\n",
    "print(\"Hello World\");"
   ]
  },
  {
   "cell_type": "code",
   "execution_count": 16,
   "id": "82b14969",
   "metadata": {},
   "outputs": [
    {
     "name": "stdout",
     "output_type": "stream",
     "text": [
      "[12, 3, 4]\n"
     ]
    }
   ],
   "source": [
    "#learning list\n",
    "\n",
    "list1 = [12, 3, 4];\n",
    "print(list1);"
   ]
  },
  {
   "cell_type": "code",
   "execution_count": 22,
   "id": "e22e368e",
   "metadata": {},
   "outputs": [
    {
     "name": "stdout",
     "output_type": "stream",
     "text": [
      "osama,zain,asad,sam\n"
     ]
    }
   ],
   "source": [
    "name1 =\"osama\";\n",
    "name2 = \"zain\";\n",
    "name3 =\"asad\";\n",
    "name4 =\"sam\";\n",
    "print(name1+\",\"+name2+\",\"+name3+\",\"+name4);"
   ]
  },
  {
   "cell_type": "code",
   "execution_count": 26,
   "id": "312a70f9",
   "metadata": {},
   "outputs": [
    {
     "name": "stdout",
     "output_type": "stream",
     "text": [
      "['osama', 'zain', ' asad', 'sam']\n"
     ]
    }
   ],
   "source": [
    "name=[\"osama\", \"zain\",\" asad\", \"sam\"];\n",
    "print(name);"
   ]
  },
  {
   "cell_type": "code",
   "execution_count": 27,
   "id": "616cf891",
   "metadata": {},
   "outputs": [
    {
     "name": "stdout",
     "output_type": "stream",
     "text": [
      "['osama', 'zain']\n"
     ]
    }
   ],
   "source": [
    "name=['osama', 'zain'];\n",
    "print(name);"
   ]
  },
  {
   "cell_type": "code",
   "execution_count": 28,
   "id": "d1c8d30b",
   "metadata": {},
   "outputs": [
    {
     "name": "stdout",
     "output_type": "stream",
     "text": [
      "osama\n"
     ]
    }
   ],
   "source": [
    "print(name[0]);"
   ]
  },
  {
   "cell_type": "code",
   "execution_count": 29,
   "id": "cbe75dfa",
   "metadata": {},
   "outputs": [
    {
     "name": "stdout",
     "output_type": "stream",
     "text": [
      "['osama', 'ali']\n"
     ]
    }
   ],
   "source": [
    "name[1]=\"ali\";\n",
    "print(name);"
   ]
  },
  {
   "cell_type": "code",
   "execution_count": 30,
   "id": "c61fa50d",
   "metadata": {},
   "outputs": [
    {
     "name": "stdout",
     "output_type": "stream",
     "text": [
      "['osama', 'ali', 'ahmed']\n"
     ]
    }
   ],
   "source": [
    "name.append(\"ahmed\");\n",
    "print(name);"
   ]
  },
  {
   "cell_type": "code",
   "execution_count": 33,
   "id": "0a558f47",
   "metadata": {},
   "outputs": [
    {
     "name": "stdout",
     "output_type": "stream",
     "text": [
      "['panda', 12, True, 5.6, 'ali']\n"
     ]
    }
   ],
   "source": [
    "arr= [\"panda\", 12, True, 5.6, \"ali\"];\n",
    "print(arr);"
   ]
  },
  {
   "cell_type": "code",
   "execution_count": 34,
   "id": "e1b6f218",
   "metadata": {},
   "outputs": [
    {
     "data": {
      "text/plain": [
       "['osama', 'ali', 'ahmed']"
      ]
     },
     "execution_count": 34,
     "metadata": {},
     "output_type": "execute_result"
    }
   ],
   "source": [
    "name"
   ]
  },
  {
   "cell_type": "code",
   "execution_count": 35,
   "id": "4678af90",
   "metadata": {},
   "outputs": [],
   "source": [
    "newList = name + arr;"
   ]
  },
  {
   "cell_type": "code",
   "execution_count": 36,
   "id": "b8e2edee",
   "metadata": {},
   "outputs": [
    {
     "name": "stdout",
     "output_type": "stream",
     "text": [
      "['osama', 'ali', 'ahmed', 'panda', 12, True, 5.6, 'ali']\n"
     ]
    }
   ],
   "source": [
    "print(newList);"
   ]
  },
  {
   "cell_type": "code",
   "execution_count": 44,
   "id": "75e0a279",
   "metadata": {},
   "outputs": [
    {
     "ename": "AttributeError",
     "evalue": "'NoneType' object has no attribute 'insert'",
     "output_type": "error",
     "traceback": [
      "\u001b[1;31m---------------------------------------------------------------------------\u001b[0m",
      "\u001b[1;31mAttributeError\u001b[0m                            Traceback (most recent call last)",
      "\u001b[1;32m<ipython-input-44-c32f30c807c4>\u001b[0m in \u001b[0;36m<module>\u001b[1;34m\u001b[0m\n\u001b[1;32m----> 1\u001b[1;33m \u001b[0mname\u001b[0m\u001b[1;33m.\u001b[0m\u001b[0minsert\u001b[0m\u001b[1;33m(\u001b[0m\u001b[1;36m2\u001b[0m\u001b[1;33m,\u001b[0m \u001b[1;34m\"rashid\"\u001b[0m\u001b[1;33m)\u001b[0m\u001b[1;33m;\u001b[0m\u001b[1;33m\u001b[0m\u001b[1;33m\u001b[0m\u001b[0m\n\u001b[0m\u001b[0;32m      2\u001b[0m \u001b[0mprint\u001b[0m\u001b[1;33m(\u001b[0m\u001b[0mname\u001b[0m\u001b[1;33m)\u001b[0m\u001b[1;33m;\u001b[0m\u001b[1;33m\u001b[0m\u001b[1;33m\u001b[0m\u001b[0m\n",
      "\u001b[1;31mAttributeError\u001b[0m: 'NoneType' object has no attribute 'insert'"
     ]
    }
   ],
   "source": [
    "name.insert(2, \"rashid\");\n",
    "print(name);"
   ]
  },
  {
   "cell_type": "markdown",
   "id": "6aa52b3d",
   "metadata": {},
   "source": []
  },
  {
   "cell_type": "code",
   "execution_count": 38,
   "id": "ff1092cc",
   "metadata": {},
   "outputs": [
    {
     "data": {
      "text/plain": [
       "['osama', 'ali', 'ahmed']"
      ]
     },
     "execution_count": 38,
     "metadata": {},
     "output_type": "execute_result"
    }
   ],
   "source": [
    "name\n"
   ]
  },
  {
   "cell_type": "code",
   "execution_count": 40,
   "id": "01b9e156",
   "metadata": {},
   "outputs": [
    {
     "data": {
      "text/plain": [
       "['panda', 12, True, 5.6, 'ali']"
      ]
     },
     "execution_count": 40,
     "metadata": {},
     "output_type": "execute_result"
    }
   ],
   "source": [
    "arr"
   ]
  },
  {
   "cell_type": "code",
   "execution_count": 43,
   "id": "173b8f8f",
   "metadata": {},
   "outputs": [
    {
     "name": "stdout",
     "output_type": "stream",
     "text": [
      "['panda', 12, True, 'aly', 5.6, 'ali']\n"
     ]
    }
   ],
   "source": [
    "arr.insert(3,\"aly\");\n",
    "print(arr);"
   ]
  },
  {
   "cell_type": "code",
   "execution_count": 45,
   "id": "29f5c34b",
   "metadata": {},
   "outputs": [
    {
     "name": "stdout",
     "output_type": "stream",
     "text": [
      "['osama', 'ali', 'ahmed', 'panda', 'samy', 12, True, 5.6, 'ali']\n"
     ]
    }
   ],
   "source": [
    "newList.insert(4,\"samy\");\n",
    "print(newList);"
   ]
  },
  {
   "cell_type": "code",
   "execution_count": 46,
   "id": "3bf78cd9",
   "metadata": {},
   "outputs": [
    {
     "name": "stdout",
     "output_type": "stream",
     "text": [
      "[True, 'aly', 5.6]\n"
     ]
    }
   ],
   "source": [
    "arr2 = arr[2:5];\n",
    "print(arr2);"
   ]
  },
  {
   "cell_type": "code",
   "execution_count": 47,
   "id": "8995ef91",
   "metadata": {},
   "outputs": [
    {
     "data": {
      "text/plain": [
       "['panda', 12, True, 'aly', 5.6, 'ali']"
      ]
     },
     "execution_count": 47,
     "metadata": {},
     "output_type": "execute_result"
    }
   ],
   "source": [
    "arr\n"
   ]
  },
  {
   "cell_type": "code",
   "execution_count": 48,
   "id": "87506acd",
   "metadata": {},
   "outputs": [],
   "source": [
    "#[2;5] is slicing "
   ]
  },
  {
   "cell_type": "code",
   "execution_count": 50,
   "id": "a22be125",
   "metadata": {},
   "outputs": [
    {
     "name": "stdout",
     "output_type": "stream",
     "text": [
      "['panda', 12, True, 'aly', 5.6]\n"
     ]
    }
   ],
   "source": [
    "arr3 = arr[:5];\n",
    "print(arr3);"
   ]
  },
  {
   "cell_type": "code",
   "execution_count": 51,
   "id": "12303e56",
   "metadata": {},
   "outputs": [
    {
     "name": "stdout",
     "output_type": "stream",
     "text": [
      "['panda', 12, True, 'aly', 5.6, 'ali']\n"
     ]
    }
   ],
   "source": [
    "arr3 = arr[:];\n",
    "print(arr3);"
   ]
  },
  {
   "cell_type": "code",
   "execution_count": 53,
   "id": "33860b2c",
   "metadata": {},
   "outputs": [
    {
     "name": "stdout",
     "output_type": "stream",
     "text": [
      "['panda', 12, 5.6, 'ali']\n"
     ]
    }
   ],
   "source": [
    "del arr[2];\n",
    "print(arr);"
   ]
  },
  {
   "cell_type": "code",
   "execution_count": 55,
   "id": "45a43953",
   "metadata": {},
   "outputs": [
    {
     "name": "stdout",
     "output_type": "stream",
     "text": [
      "['panda', 5.6, 'ali']\n"
     ]
    }
   ],
   "source": [
    "# through remove we can remove an element by its value\n",
    "arr.remove(12);\n",
    "print(arr);"
   ]
  },
  {
   "cell_type": "code",
   "execution_count": 57,
   "id": "c227af7a",
   "metadata": {},
   "outputs": [
    {
     "name": "stdout",
     "output_type": "stream",
     "text": [
      "['panda', 5.6]\n"
     ]
    }
   ],
   "source": [
    "arr.pop();\n",
    "print(arr);"
   ]
  },
  {
   "cell_type": "code",
   "execution_count": null,
   "id": "a8276644",
   "metadata": {},
   "outputs": [],
   "source": [
    "\n"
   ]
  }
 ],
 "metadata": {
  "kernelspec": {
   "display_name": "Python 3",
   "language": "python",
   "name": "python3"
  },
  "language_info": {
   "codemirror_mode": {
    "name": "ipython",
    "version": 3
   },
   "file_extension": ".py",
   "mimetype": "text/x-python",
   "name": "python",
   "nbconvert_exporter": "python",
   "pygments_lexer": "ipython3",
   "version": "3.8.8"
  }
 },
 "nbformat": 4,
 "nbformat_minor": 5
}
