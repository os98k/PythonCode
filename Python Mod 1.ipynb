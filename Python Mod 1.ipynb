{
 "cells": [
  {
   "cell_type": "code",
   "execution_count": 71,
   "id": "0334cd6c",
   "metadata": {},
   "outputs": [
    {
     "data": {
      "text/plain": [
       "'\\nIntroduction\\nHow to get started with python\\nTypes of operators\\nTypes of errors\\nKeywords and Identifiers\\nDatatypes and typecasting\\nString slicing\\nStrings functions\\nLists\\nTuples\\nSwapping two numbers\\nDictionaries\\nIf-else and elif conditions\\nfor loop\\nwhile loop\\nshort hand if-else\\n'"
      ]
     },
     "execution_count": 71,
     "metadata": {},
     "output_type": "execute_result"
    }
   ],
   "source": [
    "#Topics Covered\n",
    "\"\"\"\n",
    "Introduction\n",
    "How to get started with python\n",
    "Types of operators\n",
    "Types of errors\n",
    "Keywords and Identifiers\n",
    "Datatypes and typecasting\n",
    "String slicing\n",
    "Strings functions\n",
    "Lists\n",
    "Tuples\n",
    "Swapping two numbers\n",
    "Dictionaries\n",
    "If-else and elif conditions\n",
    "for loop\n",
    "while loop\n",
    "short hand if-else\n",
    "\"\"\""
   ]
  },
  {
   "cell_type": "code",
   "execution_count": 6,
   "id": "1bc81770",
   "metadata": {},
   "outputs": [
    {
     "name": "stdout",
     "output_type": "stream",
     "text": [
      "Guido Van Rossum (dutuch programmer) born in 31 jan 1956 is creator of Python programming language, for which he was benevolent dictator for life (BDFL) untill he steeped down the postion in July 2018\n"
     ]
    }
   ],
   "source": [
    "#father of Python\n",
    "print(\"Guido Van Rossum (dutuch programmer) born in 31 jan 1956 is creator of Python programming language,\"\n",
    "    ,\"for which he was benevolent dictator for life (BDFL) untill he steeped down the postion in July 2018\")"
   ]
  },
  {
   "cell_type": "code",
   "execution_count": 7,
   "id": "9e341c55",
   "metadata": {},
   "outputs": [
    {
     "name": "stdout",
     "output_type": "stream",
     "text": [
      "Python was created in late 1980s\n",
      "Python was available in 1990s\n",
      "Python 2.0 was released in 2000\n"
     ]
    }
   ],
   "source": [
    "print(\"Python was created in late 1980s\")\n",
    "print(\"Python was available in 1990s\")\n",
    "print(\"Python 2.0 was released in 2000\")"
   ]
  },
  {
   "cell_type": "code",
   "execution_count": 9,
   "id": "c4b3223b",
   "metadata": {},
   "outputs": [
    {
     "name": "stdout",
     "output_type": "stream",
     "text": [
      "Simple, and Easy to learn\n",
      "Platform Independednt\n",
      "Case sensitive\n",
      "interpreted lang8uage\n",
      "Concise code\n",
      "free and open source code\n"
     ]
    }
   ],
   "source": [
    "#Features of Python \n",
    "print(\"Simple, and Easy to learn\")\n",
    "print(\"Platform Independednt\")\n",
    "print(\"Case sensitive\")\n",
    "print(\"interpreted lang8uage\")\n",
    "print(\"Concise code\")\n",
    "print(\"free and open source code\")\n"
   ]
  },
  {
   "cell_type": "code",
   "execution_count": 10,
   "id": "41229b55",
   "metadata": {},
   "outputs": [
    {
     "name": "stdout",
     "output_type": "stream",
     "text": [
      "Artimetic, Assignment, Comparison, Logical, Bitwise,Idetity,Membership\n"
     ]
    }
   ],
   "source": [
    "#Seven Types of Operartors\n",
    "print(\"Artimetic, Assignment, Comparison, Logical, Bitwise,Idetity,Membership\")"
   ]
  },
  {
   "cell_type": "code",
   "execution_count": 11,
   "id": "c934ae68",
   "metadata": {},
   "outputs": [
    {
     "name": "stdout",
     "output_type": "stream",
     "text": [
      "additiioin +, Subtractrion -, Multiplication *, Division /, Modulus %, Quotient //, Exponent ** :\n"
     ]
    }
   ],
   "source": [
    "#arthematic Operators\n",
    "print(\"additiioin +, Subtractrion -, Multiplication *, Division /, Modulus %, Quotient //, Exponent ** :\")"
   ]
  },
  {
   "cell_type": "code",
   "execution_count": 12,
   "id": "93c8c3c2",
   "metadata": {},
   "outputs": [
    {
     "name": "stdout",
     "output_type": "stream",
     "text": [
      "+=, -=, *=, /=, **=, : \n",
      " Num+ = 1 (Augmented Shortcut) is similar to Num = +1\n"
     ]
    }
   ],
   "source": [
    "#assignment Operators\n",
    "print(\"+=, -=, *=, /=, **=, : \")\n",
    "print(\" Num+ = 1 (Augmented Shortcut) is similar to Num = +1\")"
   ]
  },
  {
   "cell_type": "code",
   "execution_count": 15,
   "id": "7b179c0e",
   "metadata": {},
   "outputs": [
    {
     "name": "stdout",
     "output_type": "stream",
     "text": [
      "200\n"
     ]
    }
   ],
   "source": [
    "#Arthematic Operators\n",
    "a = 10;\n",
    "b = 20; \n",
    "c = a*b;\n",
    "print(c)"
   ]
  },
  {
   "cell_type": "code",
   "execution_count": 16,
   "id": "646bf565",
   "metadata": {},
   "outputs": [
    {
     "name": "stdout",
     "output_type": "stream",
     "text": [
      "12\n"
     ]
    }
   ],
   "source": [
    "#Assignment Operators\n",
    "a = 11;\n",
    "a += 1;\n",
    "print(a);"
   ]
  },
  {
   "cell_type": "code",
   "execution_count": 17,
   "id": "7643b17d",
   "metadata": {},
   "outputs": [
    {
     "name": "stdout",
     "output_type": "stream",
     "text": [
      " < , > ,  <=, >=, ==, != : \n"
     ]
    }
   ],
   "source": [
    "#Comparison Opeators\n",
    "print(\" < , > ,  <=, >=, ==, != : \")"
   ]
  },
  {
   "cell_type": "code",
   "execution_count": 18,
   "id": "ad9d4c05",
   "metadata": {},
   "outputs": [
    {
     "name": "stdout",
     "output_type": "stream",
     "text": [
      "They are not equals\n"
     ]
    }
   ],
   "source": [
    "#Comparison Operator\n",
    "p = 10;\n",
    "q = 12;\n",
    "if (p==q):\n",
    "    print(\"They are equals\")\n",
    "    \n",
    "else:\n",
    "    print(\"They are not equals\")"
   ]
  },
  {
   "cell_type": "code",
   "execution_count": 19,
   "id": "91f76bcc",
   "metadata": {},
   "outputs": [
    {
     "name": "stdout",
     "output_type": "stream",
     "text": [
      "Q is greator\n"
     ]
    }
   ],
   "source": [
    "p = 10;\n",
    "q = 12;\n",
    "if (p>q):\n",
    "    print(\"P is greator\")\n",
    "    \n",
    "else:\n",
    "    print(\"Q is greator\")"
   ]
  },
  {
   "cell_type": "code",
   "execution_count": 20,
   "id": "76c0bd35",
   "metadata": {},
   "outputs": [
    {
     "name": "stdout",
     "output_type": "stream",
     "text": [
      "AND, OR , NOT are logical operators \n"
     ]
    }
   ],
   "source": [
    "#Logical Operator\n",
    "print(\"AND &, OR | , NOT! are logical operators \")"
   ]
  },
  {
   "cell_type": "code",
   "execution_count": 21,
   "id": "f2a91238",
   "metadata": {},
   "outputs": [
    {
     "name": "stdout",
     "output_type": "stream",
     "text": [
      "Or works as additions\n",
      "And works as multiplications\n",
      "Not works as reverse\n"
     ]
    }
   ],
   "source": [
    "print(\"Or works as additions\")\n",
    "print(\"And works as multiplications\")\n",
    "print(\"Not works as reverse\")"
   ]
  },
  {
   "cell_type": "code",
   "execution_count": 22,
   "id": "fcb8661e",
   "metadata": {},
   "outputs": [
    {
     "name": "stdout",
     "output_type": "stream",
     "text": [
      "a or b is : 30\n"
     ]
    }
   ],
   "source": [
    "#Logical Operator\n",
    "a = 10;\n",
    "b = 20;\n",
    "print(\"a or b is :\", a|b)"
   ]
  },
  {
   "cell_type": "code",
   "execution_count": 23,
   "id": "cf76b4d0",
   "metadata": {},
   "outputs": [
    {
     "name": "stdout",
     "output_type": "stream",
     "text": [
      "a or b is : 0\n"
     ]
    }
   ],
   "source": [
    "#Logical Operator\n",
    "a = 10;\n",
    "b = 20;\n",
    "print(\"a or b is :\", a&b)"
   ]
  },
  {
   "cell_type": "code",
   "execution_count": 24,
   "id": "43be2443",
   "metadata": {},
   "outputs": [
    {
     "name": "stdout",
     "output_type": "stream",
     "text": [
      "Bitwise AND &, bItwise OR |, Bitwise XOR ^, Bitwise NOT ~, Bitwise Left Shift <<, Bitwise right shift >>\n"
     ]
    }
   ],
   "source": [
    "#Bitwise Operator\n",
    "print(\"Bitwise AND &, bItwise OR |, Bitwise XOR ^, Bitwise NOT ~, Bitwise Left Shift <<, Bitwise right shift >>\")"
   ]
  },
  {
   "cell_type": "code",
   "execution_count": 28,
   "id": "d09b049e",
   "metadata": {},
   "outputs": [
    {
     "name": "stdout",
     "output_type": "stream",
     "text": [
      "is(return true if both variable are of same object i.e x is y) and is not (return true if both variable are not of same object i.e x is not y) are identity operator\n"
     ]
    }
   ],
   "source": [
    "#Identity Operator\n",
    "print(\"is(return true if both variable are of same object i.e x is y)\" ,\n",
    "\"and is not (return true if both variable are not of same object i.e x is not y) are identity operator\")"
   ]
  },
  {
   "cell_type": "code",
   "execution_count": 29,
   "id": "21601580",
   "metadata": {},
   "outputs": [
    {
     "name": "stdout",
     "output_type": "stream",
     "text": [
      "True\n"
     ]
    }
   ],
   "source": [
    "#Identity Operators\n",
    "x = 10;\n",
    "z = x;\n",
    "print(z is x)"
   ]
  },
  {
   "cell_type": "code",
   "execution_count": 31,
   "id": "bf99ec30",
   "metadata": {},
   "outputs": [
    {
     "name": "stdout",
     "output_type": "stream",
     "text": [
      "False\n"
     ]
    }
   ],
   "source": [
    "x = 10;\n",
    "z = x;\n",
    "print(z is not x)"
   ]
  },
  {
   "cell_type": "code",
   "execution_count": 35,
   "id": "55cc0194",
   "metadata": {},
   "outputs": [
    {
     "name": "stdout",
     "output_type": "stream",
     "text": [
      "in and not in are Membership operators\n",
      "In return true if value/varaible found in sequence\n",
      "not in return true if value/variable not found in sequence\n"
     ]
    }
   ],
   "source": [
    "#MemberShip Operators\n",
    "print(\"in and not in are Membership operators\")\n",
    "print(\"In return true if value/varaible found in sequence\")\n",
    "print(\"not in return true if value/variable not found in sequence\")"
   ]
  },
  {
   "cell_type": "code",
   "execution_count": 37,
   "id": "7d70c371",
   "metadata": {},
   "outputs": [
    {
     "name": "stdout",
     "output_type": "stream",
     "text": [
      "True\n"
     ]
    }
   ],
   "source": [
    "x = \"apple\"\n",
    "print(\"apple\" in x)"
   ]
  },
  {
   "cell_type": "code",
   "execution_count": 40,
   "id": "a00ac2c8",
   "metadata": {},
   "outputs": [
    {
     "name": "stdout",
     "output_type": "stream",
     "text": [
      "Logical Errors\n",
      "This is a type of error in which your code will run in compliling but will not get desired output\n",
      "a multiply b is :  30\n"
     ]
    }
   ],
   "source": [
    "#Types of Errors\n",
    "print(\"Logical Errors\")\n",
    "print(\"This is a type of error in which your code will run in compliling but will not get desired output\")\n",
    "print(\"a multiply b is : \", a + b ) # + is logical error"
   ]
  },
  {
   "cell_type": "code",
   "execution_count": 41,
   "id": "03cc0bd7",
   "metadata": {},
   "outputs": [
    {
     "name": "stdout",
     "output_type": "stream",
     "text": [
      "Syntax Error\n",
      "This type of error are like missing punctuations error, missing a brackets, missing a closed parenthesis etc\n"
     ]
    }
   ],
   "source": [
    "print(\"Syntax Error\")\n",
    "print(\"This type of error are like missing punctuations error, missing a brackets, missing a closed parenthesis etc\")"
   ]
  },
  {
   "cell_type": "code",
   "execution_count": 43,
   "id": "eebffad1",
   "metadata": {},
   "outputs": [
    {
     "name": "stdout",
     "output_type": "stream",
     "text": [
      "Run Type Errors\n",
      "this type of error occurs when we divide a numbers by zero, taking squre root of a negative numbers\n"
     ]
    }
   ],
   "source": [
    "print(\"Run Type Errors\")\n",
    "print(\"this type of error occurs when we divide a numbers by zero, taking squre root of a negative numbers\")"
   ]
  },
  {
   "cell_type": "code",
   "execution_count": 44,
   "id": "adada5bd",
   "metadata": {},
   "outputs": [
    {
     "ename": "SyntaxError",
     "evalue": "EOL while scanning string literal (<ipython-input-44-eaa1d1fdcaa4>, line 1)",
     "output_type": "error",
     "traceback": [
      "\u001b[1;36m  File \u001b[1;32m\"<ipython-input-44-eaa1d1fdcaa4>\"\u001b[1;36m, line \u001b[1;32m1\u001b[0m\n\u001b[1;33m    print('I am missing a quotations so this will be syntax error)\u001b[0m\n\u001b[1;37m                                                                  ^\u001b[0m\n\u001b[1;31mSyntaxError\u001b[0m\u001b[1;31m:\u001b[0m EOL while scanning string literal\n"
     ]
    }
   ],
   "source": [
    "print('I am missing a quotations so this will be syntax error)"
   ]
  },
  {
   "cell_type": "code",
   "execution_count": 46,
   "id": "b164050d",
   "metadata": {},
   "outputs": [
    {
     "name": "stdout",
     "output_type": "stream",
     "text": [
      "I am not missing a quotations so no error\n"
     ]
    }
   ],
   "source": [
    "print('I am not missing a quotations so no error')"
   ]
  },
  {
   "cell_type": "code",
   "execution_count": 49,
   "id": "98e4ca6d",
   "metadata": {},
   "outputs": [
    {
     "ename": "SyntaxError",
     "evalue": "invalid syntax (<ipython-input-49-59e61eaceb25>, line 3)",
     "output_type": "error",
     "traceback": [
      "\u001b[1;36m  File \u001b[1;32m\"<ipython-input-49-59e61eaceb25>\"\u001b[1;36m, line \u001b[1;32m3\u001b[0m\n\u001b[1;33m    else if 2==2:\u001b[0m\n\u001b[1;37m         ^\u001b[0m\n\u001b[1;31mSyntaxError\u001b[0m\u001b[1;31m:\u001b[0m invalid syntax\n"
     ]
    }
   ],
   "source": [
    "if 2==3:\n",
    "    print(\"Hello\")\n",
    "else if 2==2:  #Wrong syntax\n",
    "    print(\"Good Bye\")\n",
    "    "
   ]
  },
  {
   "cell_type": "code",
   "execution_count": 50,
   "id": "116b1242",
   "metadata": {},
   "outputs": [
    {
     "name": "stdout",
     "output_type": "stream",
     "text": [
      "Good Bye\n"
     ]
    }
   ],
   "source": [
    "if 2==3:\n",
    "    print(\"Hello\")\n",
    "elif 2==2:\n",
    "    print(\"Good Bye\")"
   ]
  },
  {
   "cell_type": "code",
   "execution_count": 54,
   "id": "a26da925",
   "metadata": {},
   "outputs": [
    {
     "name": "stdout",
     "output_type": "stream",
     "text": [
      "Enter A number2\n",
      "Enter another number4\n",
      "4.0\n"
     ]
    }
   ],
   "source": [
    "x= float(input(\"Enter A number\"))\n",
    "y= float(input(\"Enter another number\"))\n",
    "\n",
    "z = x + y/2 #logical error not shown during compilation\n",
    "            #2 is not bt x, it is only divided by y\n",
    "print(z)"
   ]
  },
  {
   "cell_type": "code",
   "execution_count": 52,
   "id": "817ee157",
   "metadata": {},
   "outputs": [
    {
     "name": "stdout",
     "output_type": "stream",
     "text": [
      "Enter A number2\n",
      "Enter another number4\n",
      "3.0\n"
     ]
    }
   ],
   "source": [
    "x= float(input(\"Enter A number\"))\n",
    "y= float(input(\"Enter another number\"))\n",
    "\n",
    "z = (x + y)/2\n",
    "print(z)"
   ]
  },
  {
   "cell_type": "code",
   "execution_count": 57,
   "id": "325c0436",
   "metadata": {},
   "outputs": [
    {
     "name": "stdout",
     "output_type": "stream",
     "text": [
      "keywods are resrved words\n",
      "There are totals of 33 keywords in python language\n"
     ]
    }
   ],
   "source": [
    "#Keyword and Identifiers\n",
    "print(\"keywods are resrved words\")\n",
    "print(\"There are totals of 33 keywords in python language\")"
   ]
  },
  {
   "cell_type": "code",
   "execution_count": 56,
   "id": "d6e2df42",
   "metadata": {},
   "outputs": [
    {
     "name": "stdout",
     "output_type": "stream",
     "text": [
      "all the other keywords excepts TRUE, FALSE, and NONE are lower case\n"
     ]
    }
   ],
   "source": [
    "print(\"all the other keywords excepts TRUE, FALSE, and NONE are lower case\")"
   ]
  },
  {
   "cell_type": "code",
   "execution_count": 60,
   "id": "ea17fecf",
   "metadata": {},
   "outputs": [],
   "source": [
    "\n",
    "#False\tawait\telse\timport\tpass\n",
    "#None\tbreak\texcept\tin\traise\n",
    "#True\tclass\tfinally\tis\treturn\n",
    "#and\tcontinue\tfor\tlambda\ttry\n",
    "#as\tdef\tfrom\tnonlocal\twhile\n",
    "#assert\tdel\tglobal\tnot\twith\n",
    "#async\telif\tif\tor\tyield"
   ]
  },
  {
   "cell_type": "code",
   "execution_count": 62,
   "id": "45ce1df3",
   "metadata": {},
   "outputs": [
    {
     "data": {
      "text/plain": [
       "'\\n<!-- and\\tA logical operator -->\\n<!-- as\\tTo create an alias -->\\n<!-- assert\\tFor debugging -->\\n<!-- break\\tTo break out of a loop -->\\n<!-- class\\tTo define a class -->\\n<!-- continue\\tTo continue to the next iteration of a loop -->\\n<!-- def\\tTo define a function -->\\n<!-- del\\tTo delete an object -->\\n<!-- elif\\tUsed in conditional statements, same as else if -->\\n<!-- else\\tUsed in conditional statements -->\\n<!-- except\\tUsed with exceptions, what to do when an exception occurs -->\\n<!-- False\\tBoolean value, result of comparison operations -->\\n<!-- finally\\tUsed with exceptions, a block of code that will be executed no matter if there is an exception or not -->\\n<!-- for\\tTo create a for loop -->\\n<!-- from\\tTo import specific parts of a module -->\\n<!-- global\\tTo declare a global variable -->\\n<!-- if\\tTo make a conditional statement -->\\n<!-- import\\tTo import a module -->\\n<!-- in\\tTo check if a value is present in a list, tuple, etc. -->\\n<!-- is\\tTo test if two variables are equal -->\\n<!-- lambda\\tTo create an anonymous function -->\\n<!-- None\\tRepresents a null value -->\\n<!-- nonlocal\\tTo declare a non-local variable -->\\n<!-- not\\tA logical operator -->\\n<!-- or\\tA logical operator -->\\n<!-- pass\\tA null statement, a statement that will do nothing -->\\n<!-- raise\\tTo raise an exception -->\\n<!-- return\\tTo exit a function and return a value -->\\n<!-- True\\tBoolean value, result of comparison operations -->\\n<!-- try\\tTo make a try...except statement -->\\n<!-- while\\tTo create a while loop -->\\n<!-- with\\tUsed to simplify exception handling -->\\n<!-- yield\\tTo end a function, returns a generator -->'"
      ]
     },
     "execution_count": 62,
     "metadata": {},
     "output_type": "execute_result"
    }
   ],
   "source": [
    "\"\"\"\n",
    "<!-- and\tA logical operator -->\n",
    "<!-- as\tTo create an alias -->\n",
    "<!-- assert\tFor debugging -->\n",
    "<!-- break\tTo break out of a loop -->\n",
    "<!-- class\tTo define a class -->\n",
    "<!-- continue\tTo continue to the next iteration of a loop -->\n",
    "<!-- def\tTo define a function -->\n",
    "<!-- del\tTo delete an object -->\n",
    "<!-- elif\tUsed in conditional statements, same as else if -->\n",
    "<!-- else\tUsed in conditional statements -->\n",
    "<!-- except\tUsed with exceptions, what to do when an exception occurs -->\n",
    "<!-- False\tBoolean value, result of comparison operations -->\n",
    "<!-- finally\tUsed with exceptions, a block of code that will be executed no matter if there is an exception or not -->\n",
    "<!-- for\tTo create a for loop -->\n",
    "<!-- from\tTo import specific parts of a module -->\n",
    "<!-- global\tTo declare a global variable -->\n",
    "<!-- if\tTo make a conditional statement -->\n",
    "<!-- import\tTo import a module -->\n",
    "<!-- in\tTo check if a value is present in a list, tuple, etc. -->\n",
    "<!-- is\tTo test if two variables are equal -->\n",
    "<!-- lambda\tTo create an anonymous function -->\n",
    "<!-- None\tRepresents a null value -->\n",
    "<!-- nonlocal\tTo declare a non-local variable -->\n",
    "<!-- not\tA logical operator -->\n",
    "<!-- or\tA logical operator -->\n",
    "<!-- pass\tA null statement, a statement that will do nothing -->\n",
    "<!-- raise\tTo raise an exception -->\n",
    "<!-- return\tTo exit a function and return a value -->\n",
    "<!-- True\tBoolean value, result of comparison operations -->\n",
    "<!-- try\tTo make a try...except statement -->\n",
    "<!-- while\tTo create a while loop -->\n",
    "<!-- with\tUsed to simplify exception handling -->\n",
    "<!-- yield\tTo end a function, returns a generator -->\"\"\"\n"
   ]
  },
  {
   "cell_type": "code",
   "execution_count": 69,
   "id": "5bb6b29b",
   "metadata": {},
   "outputs": [
    {
     "name": "stdout",
     "output_type": "stream",
     "text": [
      "Identifiers are basically name given to Class, Functions,Variables helps to differentiate only one entity from another \n",
      "Identifiers can't be start with a digit,can be of any length,  keywords can't be used, specials symbols not allowed, can be combination of two words using underscore\n"
     ]
    }
   ],
   "source": [
    "#Identifiers \n",
    "print(\"Identifiers are basically name given to Class, Functions,Variables\",\n",
    "     \"helps to differentiate only one entity from another \")\n",
    "#Rules for Identifiers\n",
    "print( \"Identifiers can't be start with a digit,can be of any length,\"\n",
    "      ,\" keywords can't be used, specials symbols not allowed, can be combination of two words using underscore\")"
   ]
  },
  {
   "cell_type": "code",
   "execution_count": 77,
   "id": "4ce8bb91",
   "metadata": {},
   "outputs": [],
   "source": [
    "def my_func(a,b):  #Def is keywords\n",
    "    c = a+b; # c is idenfiers\n",
    "    print(c)"
   ]
  },
  {
   "cell_type": "code",
   "execution_count": 78,
   "id": "2961d20f",
   "metadata": {},
   "outputs": [],
   "source": [
    "def my_func(a,b):  #Def is keywords\n",
    "    c = a+b; # c is idenfiers\n",
    "    print(c)"
   ]
  },
  {
   "cell_type": "code",
   "execution_count": 83,
   "id": "941fb128",
   "metadata": {},
   "outputs": [
    {
     "name": "stdout",
     "output_type": "stream",
     "text": [
      "variable is a reserved memory location to store values\n",
      "Variables are containers for storing data values.\n"
     ]
    }
   ],
   "source": [
    "#Variables\n",
    "print(\"variable is a reserved memory location to store values\")\n",
    "print(\"Variables are containers for storing data values.\")"
   ]
  },
  {
   "cell_type": "code",
   "execution_count": 82,
   "id": "e13d113f",
   "metadata": {},
   "outputs": [
    {
     "name": "stdout",
     "output_type": "stream",
     "text": [
      "variables can hold values and values contain data types\n",
      "Data types are the classification or categorization of data items.: It represents the kind of value that tells what operations can be performed on a particular data.integers, floating point numbers, and complex numbers are three distinct numeric types: \n"
     ]
    }
   ],
   "source": [
    "#DataType and Typecasting\n",
    "print(\"variables can hold values and values contain data types\")\n",
    "print(\"Data types are the classification or categorization of data items.:\"\n",
    "      \" It represents the kind of value that tells what operations can be performed on a particular data.\"\n",
    "     \"integers, floating point numbers, and complex numbers are three distinct numeric types: \")\n",
    "x = 10; #x is variable and 10 is datatype"
   ]
  },
  {
   "cell_type": "code",
   "execution_count": 85,
   "id": "b3940e7c",
   "metadata": {},
   "outputs": [
    {
     "data": {
      "text/plain": [
       "'\"\\n\\nText Type:\\tstr\\nNumeric Types:\\tint, float, complex\\nSequence Types:\\tlist, tuple, range\\nMapping Type:\\tdict\\nSet Types:\\tset, frozenset\\nBoolean Type:\\tbool\\nBinary Types:\\tbytes, bytearray, memoryview\\n    \\n'"
      ]
     },
     "execution_count": 85,
     "metadata": {},
     "output_type": "execute_result"
    }
   ],
   "source": [
    "#Data types in Python\n",
    "\n",
    "\"\"\"\"\n",
    "\n",
    "Text Type:\tstr\n",
    "Numeric Types:\tint, float, complex\n",
    "Sequence Types:\tlist, tuple, range\n",
    "Mapping Type:\tdict\n",
    "Set Types:\tset, frozenset\n",
    "Boolean Type:\tbool\n",
    "Binary Types:\tbytes, bytearray, memoryview\n",
    "    \n",
    "\"\"\""
   ]
  },
  {
   "cell_type": "code",
   "execution_count": 86,
   "id": "6a697a71",
   "metadata": {},
   "outputs": [
    {
     "name": "stdout",
     "output_type": "stream",
     "text": [
      " Numeric, Dictionary, Boolean, Set,  Sequence set\n"
     ]
    }
   ],
   "source": [
    "#Data types\n",
    "print(\" Numeric, Dictionary, Boolean, Set,  Sequence set\")"
   ]
  },
  {
   "cell_type": "code",
   "execution_count": 50,
   "id": "eda317fd",
   "metadata": {},
   "outputs": [
    {
     "name": "stdout",
     "output_type": "stream",
     "text": [
      "In Numeric we have integers, Floating values and Complex numbers\n"
     ]
    }
   ],
   "source": [
    "print(\"In Numeric we have integers, Floating values and Complex numbers\")\n"
   ]
  },
  {
   "cell_type": "code",
   "execution_count": 88,
   "id": "3918c8d5",
   "metadata": {},
   "outputs": [
    {
     "name": "stdout",
     "output_type": "stream",
     "text": [
      "In sequence set we have Strings, list and tuples\n"
     ]
    }
   ],
   "source": [
    "print(\"In sequence set we have Strings, list and tuples\")"
   ]
  },
  {
   "cell_type": "code",
   "execution_count": 89,
   "id": "8c74dd65",
   "metadata": {},
   "outputs": [
    {
     "name": "stdout",
     "output_type": "stream",
     "text": [
      "type casting is conversioin of one datatype in to another\n"
     ]
    }
   ],
   "source": [
    "#Typecasting\n",
    "print(\"type casting is conversioin of one datatype in to another\")"
   ]
  },
  {
   "cell_type": "code",
   "execution_count": 90,
   "id": "0f58a6e5",
   "metadata": {},
   "outputs": [
    {
     "name": "stdout",
     "output_type": "stream",
     "text": [
      "It can be implicit and Explicit \n"
     ]
    }
   ],
   "source": [
    "print(\"It can be implicit and Explicit \")"
   ]
  },
  {
   "cell_type": "code",
   "execution_count": 94,
   "id": "af14622d",
   "metadata": {},
   "outputs": [
    {
     "name": "stdout",
     "output_type": "stream",
     "text": [
      "Impicit typecasting is type of typecasting in which datatype is automatically converted to another types\n",
      "In which we need not to mentions the values, automatically performed by complier\n",
      "<class 'int'>\n",
      "<class 'float'>\n",
      "<class 'float'>\n",
      "22.4\n"
     ]
    }
   ],
   "source": [
    "print(\"Impicit typecasting is type of typecasting in which datatype is automatically converted to another types\")\n",
    "print(\"In which we need not to mentions the values, automatically performed by complier\") \n",
    "num_int = 10;\n",
    "num_flo = 12.4;\n",
    "num_new = num_int + num_flo;\n",
    "print(type(num_int))\n",
    "print(type(num_flo))\n",
    "print(type(num_new))\n",
    "print(num_new)\n",
    "\n",
    "#lowest to Highest Value Datatypes\n",
    "print(\" char short int, int, unsigned int, long int, unsigned long int, float, double, long double \")"
   ]
  },
  {
   "cell_type": "code",
   "execution_count": 95,
   "id": "3140e815",
   "metadata": {},
   "outputs": [
    {
     "name": "stdout",
     "output_type": "stream",
     "text": [
      "By default the compiler doesn't allow explicit typecating\n",
      "In this type of conversion user has to convert the data type from one to another\n",
      "Syntax : required_datatype(Expression)\n"
     ]
    }
   ],
   "source": [
    "#Explicit type casting\n",
    "print(\"By default the compiler doesn't allow explicit typecating\")\n",
    "print(\"In this type of conversion user has to convert the data type from one to another\") \n",
    "print(\"Syntax : required_datatype(Expression)\")"
   ]
  },
  {
   "cell_type": "code",
   "execution_count": 96,
   "id": "9970029f",
   "metadata": {},
   "outputs": [
    {
     "name": "stdout",
     "output_type": "stream",
     "text": [
      "<class 'int'>\n",
      "<class 'str'>\n",
      "<class 'int'>\n",
      "247\n"
     ]
    }
   ],
   "source": [
    "num_int = 123;\n",
    "num_str = \"124\";\n",
    "print(type(num_int))\n",
    "print(type(num_str))\n",
    "num_str = int(num_str)\n",
    "\n",
    "num_sum = num_int + num_str;\n",
    "print(type(num_sum))\n",
    "print(num_sum)"
   ]
  },
  {
   "cell_type": "code",
   "execution_count": 97,
   "id": "720d3998",
   "metadata": {},
   "outputs": [
    {
     "name": "stdout",
     "output_type": "stream",
     "text": [
      "<class 'int'>\n",
      "<class 'str'>\n",
      "<class 'bool'>\n"
     ]
    }
   ],
   "source": [
    "print(type(123))\n",
    "print(type(\"hello world\"))\n",
    "x = True\n",
    "print(type(x))"
   ]
  },
  {
   "cell_type": "code",
   "execution_count": 98,
   "id": "4844ddf5",
   "metadata": {
    "collapsed": true
   },
   "outputs": [
    {
     "name": "stdout",
     "output_type": "stream",
     "text": [
      "String slicing is obtaining a sub string from a string\n",
      "Slicing starts with first index and ends with last index\n"
     ]
    }
   ],
   "source": [
    "#String Slicing\n",
    "print(\"String slicing is obtaining a sub string from a string\")\n",
    "print(\"Slicing starts with first index and ends with last index\")"
   ]
  },
  {
   "cell_type": "code",
   "execution_count": 11,
   "id": "150a4709",
   "metadata": {},
   "outputs": [
    {
     "name": "stdout",
     "output_type": "stream",
     "text": [
      "28\n",
      "ain is G\n",
      "8\n",
      "Zain is G\n",
      "Zain is Good Football player\n",
      "Zi sGo otal\n",
      "Zain is Good Football player\n",
      "Zi sGo \n",
      "Za\n",
      "Zain is Good Football \n",
      "Zain is Good Football player\n",
      "playe\n",
      "play\n",
      "player\n",
      "reyalp llabtooF dooG si niaZ\n",
      "Zain is Good Football player\n",
      "Zi sGo otalpae\n",
      "ryl lboFdo ina\n"
     ]
    }
   ],
   "source": [
    "my_str = \"Zain is Good Football player\"\n",
    "print(len(my_str))\n",
    "print(my_str[1:9])\n",
    "print(len(my_str[1:9]))\n",
    "print(my_str[:9])\n",
    "print(my_str[:])\n",
    "print(my_str[0:22:2])\n",
    "print(my_str[::])\n",
    "print(my_str[0:14:2])\n",
    "print(my_str[:2])\n",
    "print(my_str[0:22])\n",
    "print(my_str[0:28:1])\n",
    "#When we move from right to left we are giving negative index\n",
    "print(my_str[-6:-1])\n",
    "print(my_str[-6:-2])\n",
    "print(my_str[22:28])\n",
    "print(my_str[::-1])\n",
    "print(my_str[::1])\n",
    "print(my_str[::2])\n",
    "print(my_str[::-2])\n",
    "\n",
    "\n",
    "\n",
    "\n",
    "\n",
    "\n",
    "\n",
    "\n",
    "\n"
   ]
  },
  {
   "cell_type": "code",
   "execution_count": 6,
   "id": "913e47ea",
   "metadata": {},
   "outputs": [
    {
     "name": "stdout",
     "output_type": "stream",
     "text": [
      "play\n"
     ]
    }
   ],
   "source": [
    "print(my_str[-6:-2])\n"
   ]
  },
  {
   "cell_type": "code",
   "execution_count": 23,
   "id": "db59977b",
   "metadata": {},
   "outputs": [
    {
     "name": "stdout",
     "output_type": "stream",
     "text": [
      "False\n",
      "True\n",
      "True\n",
      "False\n",
      "3\n",
      "2\n",
      "Hello to future data scientist\n",
      "9\n",
      "hello to future data scientist\n",
      "HELLO TO FUTURE DATA SCIENTIST\n"
     ]
    }
   ],
   "source": [
    "#String Fuctions\n",
    "my_str =\"Hello to future data scientist\"\n",
    "print(my_str.isalnum())\n",
    "mystr =\"Hellotofuturedatascientist\"\n",
    "print(mystr.isalnum())\n",
    "print(my_str.endswith(\"scientist\"))\n",
    "print(my_str.endswith(\"Scientist\"))\n",
    "print(my_str.count(\"e\"))\n",
    "print(my_str.count(\"a\"))\n",
    "print(my_str.capitalize())\n",
    "print(my_str.find(\"future\"))\n",
    "print(my_str.lower())\n",
    "print(my_str.upper())\n",
    "\n"
   ]
  },
  {
   "cell_type": "code",
   "execution_count": 40,
   "id": "d2cf0dce",
   "metadata": {},
   "outputs": [
    {
     "name": "stdout",
     "output_type": "stream",
     "text": [
      "['Books', 'Pens', 'Stuff', 23, 455]\n",
      "Books\n",
      "Pens\n",
      "[5, 3, 6, 7, 8, 9]\n",
      "[3, 5, 6, 7, 8, 9]\n",
      "3\n",
      "5\n",
      "6\n",
      "7\n",
      "8\n",
      "9\n",
      "[9, 8, 7, 6, 5, 3]\n",
      "[8, 7, 6]\n",
      "6\n",
      "9\n",
      "3\n",
      "[9, 8, 7, 6, 5, 3, 12]\n",
      "[9, 8, 7, 13, 6, 5, 3, 12]\n",
      "[9, 8, 7, 6, 5, 3, 12]\n"
     ]
    }
   ],
   "source": [
    "#List \n",
    "#Data Type\n",
    "#Enclosed in a Square Braket\n",
    "#List are mutable (can change)\n",
    "stat = [\"Books\", \"Pens\",\"Stuff\", 23,455]\n",
    "print(stat)\n",
    "print(stat[0])\n",
    "print(stat[1])\n",
    "digits = [5,3,6,7,8,9]\n",
    "print(digits)\n",
    "digits.sort()\n",
    "print(digits)\n",
    "for i in digits:\n",
    "    print(i)\n",
    "digits.reverse()\n",
    "print(digits)\n",
    "print(digits[1:4])\n",
    "print(len(digits))\n",
    "print(max(digits))\n",
    "print(min(digits))\n",
    "digits.append(12)\n",
    "print(digits)\n",
    "digits.insert(3,13)\n",
    "print(digits)\n",
    "digits.remove(13)\n",
    "print(digits)"
   ]
  },
  {
   "cell_type": "code",
   "execution_count": 47,
   "id": "6554cd0b",
   "metadata": {},
   "outputs": [
    {
     "name": "stdout",
     "output_type": "stream",
     "text": [
      "(1, 2, 34, 5, 56)\n",
      "(1, 2, 3, 4, 5)\n",
      "5\n",
      "(2, 3)\n",
      "(1, 2, 3)\n"
     ]
    }
   ],
   "source": [
    "#Tuple\n",
    "#Data Type\n",
    "#Enclosed in round brackets\n",
    "#Tuple are immutable (can not change)\n",
    "des = (1,2,34,5,56)\n",
    "print(des)\n",
    "desc = 1,2,3,4,5\n",
    "print(desc)\n",
    "print(len(des))\n",
    "print(desc[1:3])\n",
    "print(desc[:-2])"
   ]
  },
  {
   "cell_type": "code",
   "execution_count": 48,
   "id": "5019ac91",
   "metadata": {},
   "outputs": [
    {
     "name": "stdout",
     "output_type": "stream",
     "text": [
      "3 2\n"
     ]
    }
   ],
   "source": [
    "#Swapping of Two Numbers\n",
    "#old Methods\n",
    "a = 2;\n",
    "b = 3;\n",
    "temp = a;\n",
    "a = b;\n",
    "b = temp;\n",
    "print(a,b)"
   ]
  },
  {
   "cell_type": "code",
   "execution_count": 49,
   "id": "8a349a09",
   "metadata": {},
   "outputs": [
    {
     "name": "stdout",
     "output_type": "stream",
     "text": [
      "2 1\n"
     ]
    }
   ],
   "source": [
    "#Swapping using python\n",
    "a=1;\n",
    "b=2;\n",
    "a,b=b,a\n",
    "print(a,b)"
   ]
  },
  {
   "cell_type": "code",
   "execution_count": 69,
   "id": "2766f91f",
   "metadata": {},
   "outputs": [
    {
     "name": "stdout",
     "output_type": "stream",
     "text": [
      "<class 'dict'>\n",
      "{'m': 'man', 'k': 'karachi', 'd': 'danger', 'S': 'Shopping', 'M': {'mon': 'movie', 'tue': 'shopingg', 'wed': 'outing'}}\n",
      "karachi\n",
      "{'mon': 'movie', 'tue': 'shopingg', 'wed': 'outing'}\n",
      "shopingg\n",
      "{'m': 'man', 'k': 'karachi', 'd': 'danger', 'S': 'Shopping', 'M': {'mon': 'movie', 'tue': 'shopingg', 'wed': 'outing'}, 'zain': 'Football'}\n",
      "{'m': 'man', 'k': 'karachi', 'd': 'danger', 'S': 'Shopping', 'M': {'mon': 'movie', 'tue': 'shopingg', 'wed': 'outing'}}\n",
      "{'m': 'man', 'k': 'karachi', 'd': 'danger', 'S': 'Shopping', 'M': {'mon': 'movie', 'tue': 'shopingg', 'wed': 'outing'}}\n",
      "{'mon': 'movie', 'tue': 'shopingg', 'wed': 'outing'}\n",
      "karachi\n",
      "{'m': 'man', 'k': 'khairpur', 'd': 'danger', 'S': 'Shopping', 'M': {'mon': 'movie', 'tue': 'shopingg', 'wed': 'outing'}}\n",
      "dict_keys(['m', 'k', 'd', 'S', 'M'])\n",
      "dict_values(['man', 'khairpur', 'danger', 'Shopping', {'mon': 'movie', 'tue': 'shopingg', 'wed': 'outing'}])\n"
     ]
    }
   ],
   "source": [
    "#Dictionary\n",
    "#Data Type \n",
    "#Enclosed in curly brackets\n",
    "#Consist of keys and Values\n",
    "d1 = {}\n",
    "print(type(d1))\n",
    "d2 = {\"m\":\"man\", \"k\":\"karachi\", \"d\":\"danger\", \"S\":\"Shopping\", \"M\":{\"mon\":\"movie\", \"tue\":\"shopingg\",\"wed\":\"outing\"}}\n",
    "print(d2)\n",
    "print(d2[\"k\"])\n",
    "print(d2[\"M\"])\n",
    "print(d2[\"M\"][\"tue\"])\n",
    "d2[\"zain\"]=\"Football\"\n",
    "print(d2)\n",
    "del d2[\"zain\"]\n",
    "print(d2)\n",
    "d3 = d2\n",
    "d3 = d2.copy()\n",
    "#print(d2)\n",
    "print(d3)\n",
    "print(d2.get(\"M\"))\n",
    "print(d2.get(\"k\"))\n",
    "d2.update({\"k\":\"khairpur\"})\n",
    "print(d2)\n",
    "print(d2.keys())\n",
    "print(d2.values())"
   ]
  },
  {
   "cell_type": "code",
   "execution_count": 70,
   "id": "a74411c5",
   "metadata": {},
   "outputs": [
    {
     "name": "stdout",
     "output_type": "stream",
     "text": [
      "enter the third integer: 4\n",
      "var3 is greater\n"
     ]
    }
   ],
   "source": [
    "#If else condition\n",
    "var1 = 2;\n",
    "var2 = 3;\n",
    "var3 = int(input(\"enter the third integer: \"))\n",
    "\n",
    "if var3>var2:\n",
    "    print(\"var3 is greater\")\n",
    "    \n",
    "else:\n",
    "    print(\"lesser\")"
   ]
  },
  {
   "cell_type": "code",
   "execution_count": 72,
   "id": "efa32931",
   "metadata": {},
   "outputs": [
    {
     "name": "stdout",
     "output_type": "stream",
     "text": [
      "enter the third integer: 3\n",
      "equals\n"
     ]
    }
   ],
   "source": [
    "#If else elif condition\n",
    "var1 = 2;\n",
    "var2 = 3;\n",
    "var3 = int(input(\"enter the third integer: \"))\n",
    "\n",
    "if var3>var2:\n",
    "    print(\"var3 is greater\")\n",
    "elif var3==var2:\n",
    "    print(\"equals\")\n",
    "else:\n",
    "    print(\"lesser\")"
   ]
  },
  {
   "cell_type": "code",
   "execution_count": 73,
   "id": "4b825221",
   "metadata": {},
   "outputs": [
    {
     "name": "stdout",
     "output_type": "stream",
     "text": [
      "not in list\n"
     ]
    }
   ],
   "source": [
    "list1 = [1,4,7]\n",
    "\n",
    "if 15 in list1:\n",
    "    print(\"yes\")\n",
    "    \n",
    "if 15 not in list1:\n",
    "    print(\"not in list\")"
   ]
  },
  {
   "cell_type": "code",
   "execution_count": 75,
   "id": "6cea37b0",
   "metadata": {},
   "outputs": [
    {
     "name": "stdout",
     "output_type": "stream",
     "text": [
      "[1, 2, 3, 5, 6, 7, 8]\n",
      "1\n",
      "2\n",
      "3\n",
      "5\n",
      "6\n",
      "7\n",
      "8\n"
     ]
    }
   ],
   "source": [
    "#For Loops\n",
    "list1 = [1,2,3,5,6,7,8]\n",
    "print(list1)\n",
    "for item in list1:\n",
    "    print(item)"
   ]
  },
  {
   "cell_type": "code",
   "execution_count": 78,
   "id": "9798fd25",
   "metadata": {},
   "outputs": [
    {
     "name": "stdout",
     "output_type": "stream",
     "text": [
      "[['m', 1], ['k', 2], ['d', 3]]\n",
      "m 1\n",
      "1\n",
      "k 2\n",
      "2\n",
      "d 3\n",
      "3\n"
     ]
    }
   ],
   "source": [
    "list1 = [[\"m\",1],[\"k\",2],[\"d\",3]]\n",
    "print(list1)\n",
    "for item, itm in list1:\n",
    "    print(item,itm)\n",
    "   # print(itm)"
   ]
  },
  {
   "cell_type": "code",
   "execution_count": 3,
   "id": "80c16616",
   "metadata": {},
   "outputs": [
    {
     "name": "stdout",
     "output_type": "stream",
     "text": [
      "1\n",
      "2\n",
      "3\n",
      "4\n",
      "5\n",
      "6\n",
      "7\n",
      "8\n",
      "9\n",
      "10\n",
      "11\n",
      "12\n",
      "13\n",
      "14\n"
     ]
    }
   ],
   "source": [
    "#While Loops\n",
    "a = 0;\n",
    "while (a<14):\n",
    "    a = a+1\n",
    "    print(a)\n"
   ]
  },
  {
   "cell_type": "code",
   "execution_count": 4,
   "id": "3ca9cfef",
   "metadata": {},
   "outputs": [
    {
     "name": "stdout",
     "output_type": "stream",
     "text": [
      "0\n",
      "1\n",
      "2\n",
      "3\n",
      "4\n",
      "5\n",
      "6\n",
      "7\n",
      "8\n",
      "9\n",
      "10\n",
      "11\n",
      "12\n",
      "13\n"
     ]
    }
   ],
   "source": [
    "a = 0;\n",
    "while (a<14):\n",
    "   \n",
    "    print(a)\n",
    "    a = a+1\n"
   ]
  },
  {
   "cell_type": "code",
   "execution_count": 7,
   "id": "22d26109",
   "metadata": {},
   "outputs": [
    {
     "name": "stdout",
     "output_type": "stream",
     "text": [
      "Enter the number \n",
      "4\n",
      "Enter another number \n",
      "2\n",
      "A is greater\n"
     ]
    }
   ],
   "source": [
    "#Short Hand If else Condition\n",
    "a = int(input(\"Enter the number \\n\"))\n",
    "b = int(input(\"Enter another number \\n\"))\n",
    "if a>b: print(\"A is greater\")\n",
    "#Not preferred to used short hand if else as it is not obvious to most of peoples"
   ]
  },
  {
   "cell_type": "code",
   "execution_count": 2,
   "id": "36ddd0f2",
   "metadata": {},
   "outputs": [
    {
     "name": "stdout",
     "output_type": "stream",
     "text": [
      "Enter the number \n",
      "2\n",
      "Enter another number \n",
      "4\n",
      "B is Greater\n"
     ]
    }
   ],
   "source": [
    "a = int(input(\"Enter the number \\n\"))\n",
    "b = int(input(\"Enter another number \\n\"))\n",
    "print(\"A is Greater than B\") if a>b  else print(\"B is Greater\")"
   ]
  },
  {
   "cell_type": "code",
   "execution_count": null,
   "id": "eb24c79f",
   "metadata": {},
   "outputs": [],
   "source": []
  }
 ],
 "metadata": {
  "kernelspec": {
   "display_name": "Python 3",
   "language": "python",
   "name": "python3"
  },
  "language_info": {
   "codemirror_mode": {
    "name": "ipython",
    "version": 3
   },
   "file_extension": ".py",
   "mimetype": "text/x-python",
   "name": "python",
   "nbconvert_exporter": "python",
   "pygments_lexer": "ipython3",
   "version": "3.8.8"
  }
 },
 "nbformat": 4,
 "nbformat_minor": 5
}
