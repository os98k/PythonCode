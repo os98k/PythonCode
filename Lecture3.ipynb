{
 "cells": [
  {
   "cell_type": "code",
   "execution_count": null,
   "id": "86a12d17",
   "metadata": {},
   "outputs": [],
   "source": [
    "english= int(input(\"enter english marks\"));\n",
    "islamyat= int(input(\"enter islamyat marks\"));\n",
    "math= int(input(\"enter math marks\"));\n",
    "\n",
    "\n",
    "tot=300;\n",
    "obt= english + math + islamyat;\n",
    "\n",
    "\n",
    "per= (obt/tot)*100;\n",
    "\n",
    "if per>=80 and per < 100:\n",
    "    print(\"A+\");\n",
    "\n",
    "elif per>=70 and per < 80:\n",
    "    print(\"A\");\n",
    "    \n",
    "elif per>=60 and per < 70:\n",
    "    print(\"B\");\n",
    "    \n",
    "elif per>=50 and per < 60:\n",
    "    print(\"C\");\n",
    "    \n",
    "elif per>=40 and per < 50:\n",
    "    print(\"C\");\n",
    "    \n",
    "elif per>=33 and per < 40:\n",
    "    print(\"D\");\n",
    "    \n",
    "elif per<33 :\n",
    "    print(\"Fail\");\n",
    "    \n",
    "elif per <0 or per >100:\n",
    "    print(\"You didn't input a write value\");\n",
    "    \n",
    "else:\n",
    "    print(\"fail\");"
   ]
  },
  {
   "cell_type": "code",
   "execution_count": 9,
   "id": "9b301284",
   "metadata": {},
   "outputs": [
    {
     "name": "stdout",
     "output_type": "stream",
     "text": [
      "Enter your Roll number 12\n",
      "Enter your Name osama\n",
      "Enter your gender male\n",
      "enter english marks12\n",
      "enter islamyat marks12\n",
      "enter math marks22\n",
      "enter urdu marks12\n",
      "enter ps marks12\n",
      "Fail\n"
     ]
    }
   ],
   "source": [
    "rollno = int(input(\"Enter your Roll number \"));\n",
    "name = input(\"Enter your Name \");\n",
    "gender= input(\"Enter your gender \");\n",
    "\n",
    "english= int(input(\"enter english marks\"));\n",
    "islamyat= int(input(\"enter islamyat marks\"));\n",
    "math= int(input(\"enter math marks\"));\n",
    "urdu= int(input(\"enter urdu marks\"));\n",
    "ps= int(input(\"enter ps marks\"));\n",
    "\n",
    "\n",
    "tot=300;\n",
    "obt= english + math + islamyat;\n",
    "\n",
    "\n",
    "per= (obt/tot)*100;\n",
    "\n",
    "if per>=80 and per < 100:\n",
    "    print(\"A+\");\n",
    "\n",
    "elif per>=70 and per < 80:\n",
    "    print(\"A\");\n",
    "    \n",
    "elif per>=60 and per < 70:\n",
    "    print(\"B\");\n",
    "    \n",
    "elif per>=50 and per < 60:\n",
    "    print(\"C\");\n",
    "    \n",
    "elif per>=40 and per < 50:\n",
    "    print(\"C\");\n",
    "    \n",
    "elif per>=33 and per < 40:\n",
    "    print(\"D\");\n",
    "    \n",
    "elif per<33 :\n",
    "    print(\"Fail\");\n",
    "    \n",
    "elif per <0 or per >100:\n",
    "    print(\"You didn't input a write value\");\n",
    "    \n",
    "else:\n",
    "    print(\"fail\")"
   ]
  },
  {
   "cell_type": "markdown",
   "id": "fe42c7b0",
   "metadata": {},
   "source": [
    "### x=3**2;\n",
    "print(x);"
   ]
  },
  {
   "cell_type": "code",
   "execution_count": 4,
   "id": "ed6dbae8",
   "metadata": {},
   "outputs": [
    {
     "ename": "SyntaxError",
     "evalue": "invalid syntax (<ipython-input-4-0c1763ebab37>, line 2)",
     "output_type": "error",
     "traceback": [
      "\u001b[1;36m  File \u001b[1;32m\"<ipython-input-4-0c1763ebab37>\"\u001b[1;36m, line \u001b[1;32m2\u001b[0m\n\u001b[1;33m    If x =1:\u001b[0m\n\u001b[1;37m       ^\u001b[0m\n\u001b[1;31mSyntaxError\u001b[0m\u001b[1;31m:\u001b[0m invalid syntax\n"
     ]
    }
   ],
   "source": [
    "x=1 \n",
    "If x =1: \n",
    " print(“Correct”);"
   ]
  },
  {
   "cell_type": "code",
   "execution_count": 11,
   "id": "31ca7f7f",
   "metadata": {},
   "outputs": [
    {
     "name": "stdout",
     "output_type": "stream",
     "text": [
      "Enter a number: 11\n",
      "This is an odd number.\n"
     ]
    }
   ],
   "source": [
    "num = int(input(\"Enter a number: \"))\n",
    "mod = num % 2\n",
    "if mod > 0:\n",
    "    print(\"This is an odd number.\")\n",
    "else:\n",
    "    print(\"This is an even number.\")"
   ]
  },
  {
   "cell_type": "code",
   "execution_count": null,
   "id": "13c4c6b2",
   "metadata": {},
   "outputs": [],
   "source": []
  }
 ],
 "metadata": {
  "kernelspec": {
   "display_name": "Python 3",
   "language": "python",
   "name": "python3"
  },
  "language_info": {
   "codemirror_mode": {
    "name": "ipython",
    "version": 3
   },
   "file_extension": ".py",
   "mimetype": "text/x-python",
   "name": "python",
   "nbconvert_exporter": "python",
   "pygments_lexer": "ipython3",
   "version": "3.8.8"
  }
 },
 "nbformat": 4,
 "nbformat_minor": 5
}
