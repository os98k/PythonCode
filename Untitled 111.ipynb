{
 "cells": [
  {
   "cell_type": "code",
   "execution_count": 2,
   "id": "daa4ec15",
   "metadata": {},
   "outputs": [
    {
     "data": {
      "text/plain": [
       "'\\nbreak and continue\\nFunctions and docstrings\\ntry and except\\nFile handling basics\\nRandom module\\nDetailed file handling\\nwith block\\nglobal and local variables\\nrecursion vs iteration\\nlambda functions\\nf-strings\\n\\n'"
      ]
     },
     "execution_count": 2,
     "metadata": {},
     "output_type": "execute_result"
    }
   ],
   "source": [
    "#Topics Covered\n",
    "\n",
    "\"\"\"\n",
    "break and continue\n",
    "Functions and docstrings\n",
    "try and except\n",
    "File handling basics\n",
    "Random module\n",
    "Detailed file handling\n",
    "with block\n",
    "global and local variables\n",
    "recursion vs iteration\n",
    "lambda functions\n",
    "f-strings\n",
    "\n",
    "\"\"\""
   ]
  },
  {
   "cell_type": "code",
   "execution_count": 4,
   "id": "bc777f2d",
   "metadata": {},
   "outputs": [
    {
     "name": "stdout",
     "output_type": "stream",
     "text": [
      "0\n",
      "1\n",
      "2\n",
      "3\n",
      "4\n",
      "5\n",
      "6\n",
      "7\n",
      "8\n",
      "9\n",
      "10\n",
      "11\n",
      "12\n",
      "13\n"
     ]
    }
   ],
   "source": [
    "#Break and Continue Statements\n",
    "i = 0;\n",
    "while(i<14):\n",
    "    print(i)\n",
    "    i= i+1"
   ]
  },
  {
   "cell_type": "code",
   "execution_count": 2,
   "id": "d884fb09",
   "metadata": {},
   "outputs": [
    {
     "name": "stdout",
     "output_type": "stream",
     "text": [
      "1 2 3 4 5 6 7 8 9 10 11 12 13 14 15 "
     ]
    }
   ],
   "source": [
    "#Break\n",
    "i = 0;\n",
    "while(True):\n",
    "    print(i+1, end =\" \")\n",
    "    if (i==14):\n",
    "        break\n",
    "    \n",
    "    i = i+1"
   ]
  },
  {
   "cell_type": "code",
   "execution_count": null,
   "id": "49bb358e",
   "metadata": {},
   "outputs": [],
   "source": [
    "\n"
   ]
  },
  {
   "cell_type": "code",
   "execution_count": null,
   "id": "c63157e3",
   "metadata": {},
   "outputs": [],
   "source": []
  }
 ],
 "metadata": {
  "kernelspec": {
   "display_name": "Python 3",
   "language": "python",
   "name": "python3"
  },
  "language_info": {
   "codemirror_mode": {
    "name": "ipython",
    "version": 3
   },
   "file_extension": ".py",
   "mimetype": "text/x-python",
   "name": "python",
   "nbconvert_exporter": "python",
   "pygments_lexer": "ipython3",
   "version": "3.8.8"
  }
 },
 "nbformat": 4,
 "nbformat_minor": 5
}
