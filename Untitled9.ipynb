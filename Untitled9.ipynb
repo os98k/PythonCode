{
 "cells": [
  {
   "cell_type": "code",
   "execution_count": 8,
   "id": "11aec685",
   "metadata": {},
   "outputs": [
    {
     "name": "stdout",
     "output_type": "stream",
     "text": [
      "[2, 3, 4, 5, 6]\n"
     ]
    }
   ],
   "source": [
    "d = {2:3,4:5,5:[2,3,4,5,6]}\n",
    "print(d[5])"
   ]
  },
  {
   "cell_type": "code",
   "execution_count": 13,
   "id": "1badb841",
   "metadata": {},
   "outputs": [
    {
     "name": "stdout",
     "output_type": "stream",
     "text": [
      "enter H4\n"
     ]
    },
    {
     "data": {
      "text/plain": [
       "{2: 3, 4: 5, 5: [2, 3, 4, 5, 6, '4']}"
      ]
     },
     "execution_count": 13,
     "metadata": {},
     "output_type": "execute_result"
    }
   ],
   "source": [
    "d = {2:3,4:5,5:[2,3,4,5,6]}\n",
    "inp = input(\"enter H\")\n",
    "d[5].append(inp)\n",
    "d"
   ]
  },
  {
   "cell_type": "code",
   "execution_count": 14,
   "id": "6e16ac66",
   "metadata": {},
   "outputs": [],
   "source": [
    "#Functions"
   ]
  },
  {
   "cell_type": "code",
   "execution_count": 15,
   "id": "f5694e39",
   "metadata": {},
   "outputs": [
    {
     "name": "stdout",
     "output_type": "stream",
     "text": [
      "8\n"
     ]
    }
   ],
   "source": [
    "def sum(a,b):\n",
    "    c = a+b\n",
    "    print(c)\n",
    "    \n",
    "sum(4,4)\n"
   ]
  },
  {
   "cell_type": "code",
   "execution_count": 16,
   "id": "f4651139",
   "metadata": {},
   "outputs": [
    {
     "data": {
      "text/plain": [
       "8"
      ]
     },
     "execution_count": 16,
     "metadata": {},
     "output_type": "execute_result"
    }
   ],
   "source": [
    "def sum(a,b):\n",
    "    return(a+b)\n",
    "sum(4,4)\n"
   ]
  },
  {
   "cell_type": "code",
   "execution_count": 1,
   "id": "16d5b2a9",
   "metadata": {},
   "outputs": [],
   "source": [
    "f = open(\"write.txt\")\n",
    "f.close()"
   ]
  },
  {
   "cell_type": "code",
   "execution_count": 3,
   "id": "cf5134d5",
   "metadata": {},
   "outputs": [],
   "source": [
    "def fun():\n",
    "    x = 10; # Local variable\n",
    "    print(x)"
   ]
  },
  {
   "cell_type": "code",
   "execution_count": null,
   "id": "1dbd46ed",
   "metadata": {},
   "outputs": [],
   "source": []
  }
 ],
 "metadata": {
  "kernelspec": {
   "display_name": "Python 3",
   "language": "python",
   "name": "python3"
  },
  "language_info": {
   "codemirror_mode": {
    "name": "ipython",
    "version": 3
   },
   "file_extension": ".py",
   "mimetype": "text/x-python",
   "name": "python",
   "nbconvert_exporter": "python",
   "pygments_lexer": "ipython3",
   "version": "3.8.8"
  }
 },
 "nbformat": 4,
 "nbformat_minor": 5
}
