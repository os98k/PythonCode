{
 "cells": [
  {
   "cell_type": "code",
   "execution_count": 1,
   "id": "7b6873d1",
   "metadata": {},
   "outputs": [
    {
     "name": "stdout",
     "output_type": "stream",
     "text": [
      "Hello Python Folks\n"
     ]
    }
   ],
   "source": [
    "print(\"Hello Python Folks\")"
   ]
  },
  {
   "cell_type": "code",
   "execution_count": 5,
   "id": "bcd5eeb0",
   "metadata": {},
   "outputs": [
    {
     "name": "stdout",
     "output_type": "stream",
     "text": [
      "Programmer can easyly understand high level languaeg and machine language can easily understand low level language\n"
     ]
    }
   ],
   "source": [
    "print(\"Programmer can easyly understand high level languaeg and machine language can easily understand low level language\");"
   ]
  },
  {
   "cell_type": "code",
   "execution_count": 23,
   "id": "cc58e345",
   "metadata": {},
   "outputs": [
    {
     "name": "stdout",
     "output_type": "stream",
     "text": [
      "HIGH Level requires a compiler/interpreter to be translated into machine code Low level requires an assembler that would translate instructions.\n"
     ]
    }
   ],
   "source": [
    "\n",
    "print(\"HIGH Level requires a compiler/interpreter to be translated into machine code\", \n",
    "      \"Low level requires an assembler that would translate instructions.\")\n"
   ]
  },
  {
   "cell_type": "code",
   "execution_count": 8,
   "id": "36f05fc4",
   "metadata": {},
   "outputs": [
    {
     "name": "stdout",
     "output_type": "stream",
     "text": [
      "Compiler is a translator which compile entire code at once and translate high level language to machine langauge.\n"
     ]
    }
   ],
   "source": [
    "print(\"Compiler is a translator which compile entire code at once and translate high level language to machine langauge.\");"
   ]
  },
  {
   "cell_type": "code",
   "execution_count": 9,
   "id": "e63a53d5",
   "metadata": {},
   "outputs": [
    {
     "name": "stdout",
     "output_type": "stream",
     "text": [
      "and enterpretor translate line by line and translate high level language to machine language\n"
     ]
    }
   ],
   "source": [
    "print(\"and enterpretor translate line by line and translate high level language to machine language\");"
   ]
  },
  {
   "cell_type": "code",
   "execution_count": 11,
   "id": "742e8777",
   "metadata": {},
   "outputs": [
    {
     "name": "stdout",
     "output_type": "stream",
     "text": [
      "Assembler is a software that convert low level program written in assembly language in machine langauge.\n"
     ]
    }
   ],
   "source": [
    "print(\"Assembler is a software that convert low level program written in assembly language in machine langauge.\");"
   ]
  },
  {
   "cell_type": "code",
   "execution_count": 12,
   "id": "51bce94b",
   "metadata": {},
   "outputs": [
    {
     "name": "stdout",
     "output_type": "stream",
     "text": [
      "Variable reserve the memory where we store the data\n"
     ]
    }
   ],
   "source": [
    "print(\"Variable reserve the memory where we store the data\");"
   ]
  },
  {
   "cell_type": "code",
   "execution_count": 14,
   "id": "7b842f10",
   "metadata": {},
   "outputs": [
    {
     "name": "stdout",
     "output_type": "stream",
     "text": [
      "mark\n"
     ]
    }
   ],
   "source": [
    "name = \"mark\";\n",
    "print(name);"
   ]
  },
  {
   "cell_type": "code",
   "execution_count": 15,
   "id": "8167c5fb",
   "metadata": {},
   "outputs": [
    {
     "name": "stdout",
     "output_type": "stream",
     "text": [
      "200.75\n"
     ]
    }
   ],
   "source": [
    "num = 0.75\n",
    "total = num + 200\n",
    "print(total);"
   ]
  },
  {
   "cell_type": "code",
   "execution_count": 17,
   "id": "22fd00bb",
   "metadata": {},
   "outputs": [
    {
     "data": {
      "text/plain": [
       "' As and break false true with print pass else non local from global if import class break del def is an in from for'"
      ]
     },
     "execution_count": 17,
     "metadata": {},
     "output_type": "execute_result"
    }
   ],
   "source": [
    "#Legal and Illegal Variable\n",
    "\"\"\" As and break false true with print pass else non local from global if import class break del def is an in from for\"\"\""
   ]
  },
  {
   "cell_type": "code",
   "execution_count": 18,
   "id": "93970c86",
   "metadata": {},
   "outputs": [
    {
     "ename": "SyntaxError",
     "evalue": "invalid syntax (<ipython-input-18-01ea46990b57>, line 1)",
     "output_type": "error",
     "traceback": [
      "\u001b[1;36m  File \u001b[1;32m\"<ipython-input-18-01ea46990b57>\"\u001b[1;36m, line \u001b[1;32m1\u001b[0m\n\u001b[1;33m    global = 3\u001b[0m\n\u001b[1;37m           ^\u001b[0m\n\u001b[1;31mSyntaxError\u001b[0m\u001b[1;31m:\u001b[0m invalid syntax\n"
     ]
    }
   ],
   "source": [
    "global = 3\n",
    "print(print);"
   ]
  },
  {
   "cell_type": "code",
   "execution_count": 24,
   "id": "8f912f88",
   "metadata": {},
   "outputs": [
    {
     "data": {
      "text/plain": [
       "' It is case sensitive, Variavbles can contain lowercase and uppercase only\",\\n\"and underscores and number after characters are legals'"
      ]
     },
     "execution_count": 24,
     "metadata": {},
     "output_type": "execute_result"
    }
   ],
   "source": [
    "#Legal Variables\n",
    "\"\"\" It is case sensitive, Variavbles can contain lowercase and uppercase only\",\n",
    "\"and underscores and number after characters are legals\"\"\""
   ]
  },
  {
   "cell_type": "code",
   "execution_count": 25,
   "id": "72bd7996",
   "metadata": {},
   "outputs": [
    {
     "name": "stdout",
     "output_type": "stream",
     "text": [
      "1\n"
     ]
    }
   ],
   "source": [
    "#Modulus tells us reminder\n",
    "total = 10 % 3\n",
    "print(total);"
   ]
  },
  {
   "cell_type": "code",
   "execution_count": 26,
   "id": "ddcdbab0",
   "metadata": {},
   "outputs": [
    {
     "name": "stdout",
     "output_type": "stream",
     "text": [
      "6\n"
     ]
    }
   ],
   "source": [
    "a = 5;\n",
    "a= a + 1;\n",
    "print(a);"
   ]
  },
  {
   "cell_type": "code",
   "execution_count": 29,
   "id": "ed318893",
   "metadata": {},
   "outputs": [
    {
     "name": "stdout",
     "output_type": "stream",
     "text": [
      "12\n"
     ]
    }
   ],
   "source": [
    "a= 10\n",
    "a += 2\n",
    "print(a);"
   ]
  },
  {
   "cell_type": "code",
   "execution_count": 30,
   "id": "cc59a18e",
   "metadata": {},
   "outputs": [],
   "source": [
    "#Ambiguity DMAS RULE"
   ]
  },
  {
   "cell_type": "code",
   "execution_count": 32,
   "id": "31bdcae2",
   "metadata": {},
   "outputs": [
    {
     "name": "stdout",
     "output_type": "stream",
     "text": [
      "14\n"
     ]
    }
   ],
   "source": [
    "total = 2+4*3\n",
    "print(total);"
   ]
  },
  {
   "cell_type": "code",
   "execution_count": 33,
   "id": "1b6977aa",
   "metadata": {},
   "outputs": [
    {
     "name": "stdout",
     "output_type": "stream",
     "text": [
      "18\n"
     ]
    }
   ],
   "source": [
    "total = (2+4)*3\n",
    "print(total);"
   ]
  },
  {
   "cell_type": "code",
   "execution_count": 34,
   "id": "4d3a23a0",
   "metadata": {},
   "outputs": [
    {
     "name": "stdout",
     "output_type": "stream",
     "text": [
      "6.0\n"
     ]
    }
   ],
   "source": [
    "#To have value in decimal use one division\n",
    "total = 2+4*3/3\n",
    "print(total);"
   ]
  },
  {
   "cell_type": "code",
   "execution_count": 35,
   "id": "f15686f1",
   "metadata": {},
   "outputs": [
    {
     "name": "stdout",
     "output_type": "stream",
     "text": [
      "6\n"
     ]
    }
   ],
   "source": [
    "#To have value in non decial form use double decimal\n",
    "total = 2+4*3//3\n",
    "print(total);"
   ]
  },
  {
   "cell_type": "code",
   "execution_count": 38,
   "id": "cb0e13df",
   "metadata": {},
   "outputs": [
    {
     "name": "stdout",
     "output_type": "stream",
     "text": [
      "Hello  World\n"
     ]
    }
   ],
   "source": [
    "#Concatenation\n",
    "#Merging of two strings is concatenation\n",
    "\n",
    "greeting = \"Hello\"\n",
    "address = \"  World\"\n",
    "whole_greeting = greeting + address\n",
    "\n",
    "print(whole_greeting);"
   ]
  },
  {
   "cell_type": "code",
   "execution_count": 39,
   "id": "ec1f7462",
   "metadata": {},
   "outputs": [
    {
     "name": "stdout",
     "output_type": "stream",
     "text": [
      "my name is os98k\n"
     ]
    }
   ],
   "source": [
    "print(\"my name is \" + \"os98k\");"
   ]
  },
  {
   "cell_type": "code",
   "execution_count": 40,
   "id": "e7b4f5db",
   "metadata": {},
   "outputs": [
    {
     "name": "stdout",
     "output_type": "stream",
     "text": [
      "9\n"
     ]
    }
   ],
   "source": [
    "a= 3**2\n",
    "print(a)"
   ]
  },
  {
   "cell_type": "code",
   "execution_count": 41,
   "id": "d4bfad7f",
   "metadata": {},
   "outputs": [],
   "source": [
    "#string is a group of characters"
   ]
  },
  {
   "cell_type": "code",
   "execution_count": 43,
   "id": "0ed5d97f",
   "metadata": {},
   "outputs": [
    {
     "name": "stdout",
     "output_type": "stream",
     "text": [
      "46\n"
     ]
    }
   ],
   "source": [
    "#String cconcatenation\n",
    "a= \"4\";\n",
    "b=\"6\"\n",
    "c= a+b;\n",
    "print(c);"
   ]
  },
  {
   "cell_type": "code",
   "execution_count": 46,
   "id": "2d887236",
   "metadata": {},
   "outputs": [
    {
     "name": "stdout",
     "output_type": "stream",
     "text": [
      "4 5\n"
     ]
    },
    {
     "ename": "TypeError",
     "evalue": "unsupported operand type(s) for +: 'int' and 'str'",
     "output_type": "error",
     "traceback": [
      "\u001b[1;31m---------------------------------------------------------------------------\u001b[0m",
      "\u001b[1;31mTypeError\u001b[0m                                 Traceback (most recent call last)",
      "\u001b[1;32m<ipython-input-46-4546c773cb54>\u001b[0m in \u001b[0;36m<module>\u001b[1;34m\u001b[0m\n\u001b[0;32m      3\u001b[0m \u001b[0mb\u001b[0m\u001b[1;33m=\u001b[0m\u001b[1;34m\"5\"\u001b[0m\u001b[1;33m;\u001b[0m\u001b[1;33m\u001b[0m\u001b[1;33m\u001b[0m\u001b[0m\n\u001b[0;32m      4\u001b[0m \u001b[0mprint\u001b[0m\u001b[1;33m(\u001b[0m\u001b[0ma\u001b[0m\u001b[1;33m,\u001b[0m\u001b[0mb\u001b[0m\u001b[1;33m)\u001b[0m\u001b[1;33m;\u001b[0m\u001b[1;33m\u001b[0m\u001b[1;33m\u001b[0m\u001b[0m\n\u001b[1;32m----> 5\u001b[1;33m \u001b[0mprint\u001b[0m\u001b[1;33m(\u001b[0m\u001b[0ma\u001b[0m\u001b[1;33m+\u001b[0m\u001b[0mb\u001b[0m\u001b[1;33m)\u001b[0m\u001b[1;33m;\u001b[0m\u001b[1;33m\u001b[0m\u001b[1;33m\u001b[0m\u001b[0m\n\u001b[0m",
      "\u001b[1;31mTypeError\u001b[0m: unsupported operand type(s) for +: 'int' and 'str'"
     ]
    }
   ],
   "source": [
    "#String contenatioin error\n",
    "a=4;\n",
    "b=\"5\";\n",
    "print(a,b);\n",
    "print(a+b);"
   ]
  },
  {
   "cell_type": "code",
   "execution_count": 47,
   "id": "22c295fc",
   "metadata": {},
   "outputs": [
    {
     "name": "stdout",
     "output_type": "stream",
     "text": [
      "hihihihi\n"
     ]
    }
   ],
   "source": [
    "print(\"hi\" *4);"
   ]
  },
  {
   "cell_type": "code",
   "execution_count": 48,
   "id": "e4f63c23",
   "metadata": {},
   "outputs": [
    {
     "name": "stdout",
     "output_type": "stream",
     "text": [
      "hihihihi\n"
     ]
    }
   ],
   "source": [
    "print(4*\"hi\");"
   ]
  },
  {
   "cell_type": "code",
   "execution_count": 49,
   "id": "0c7cd755",
   "metadata": {},
   "outputs": [
    {
     "ename": "TypeError",
     "evalue": "can't multiply sequence by non-int of type 'float'",
     "output_type": "error",
     "traceback": [
      "\u001b[1;31m---------------------------------------------------------------------------\u001b[0m",
      "\u001b[1;31mTypeError\u001b[0m                                 Traceback (most recent call last)",
      "\u001b[1;32m<ipython-input-49-f77c734fa976>\u001b[0m in \u001b[0;36m<module>\u001b[1;34m\u001b[0m\n\u001b[1;32m----> 1\u001b[1;33m \u001b[0mprint\u001b[0m\u001b[1;33m(\u001b[0m\u001b[1;36m4.0\u001b[0m \u001b[1;33m*\u001b[0m \u001b[1;34m\"hi\"\u001b[0m\u001b[1;33m)\u001b[0m\u001b[1;33m;\u001b[0m\u001b[1;33m\u001b[0m\u001b[1;33m\u001b[0m\u001b[0m\n\u001b[0m",
      "\u001b[1;31mTypeError\u001b[0m: can't multiply sequence by non-int of type 'float'"
     ]
    }
   ],
   "source": [
    "print(4.0 * \"hi\");\n"
   ]
  },
  {
   "cell_type": "code",
   "execution_count": 50,
   "id": "ab786134",
   "metadata": {},
   "outputs": [
    {
     "ename": "TypeError",
     "evalue": "can't multiply sequence by non-int of type 'str'",
     "output_type": "error",
     "traceback": [
      "\u001b[1;31m---------------------------------------------------------------------------\u001b[0m",
      "\u001b[1;31mTypeError\u001b[0m                                 Traceback (most recent call last)",
      "\u001b[1;32m<ipython-input-50-be26cdbd7fe9>\u001b[0m in \u001b[0;36m<module>\u001b[1;34m\u001b[0m\n\u001b[1;32m----> 1\u001b[1;33m \u001b[0mprint\u001b[0m\u001b[1;33m(\u001b[0m\u001b[1;34m\"hi\"\u001b[0m \u001b[1;33m*\u001b[0m\u001b[1;34m\"by \"\u001b[0m\u001b[1;33m)\u001b[0m\u001b[1;33m;\u001b[0m\u001b[1;33m\u001b[0m\u001b[1;33m\u001b[0m\u001b[0m\n\u001b[0m",
      "\u001b[1;31mTypeError\u001b[0m: can't multiply sequence by non-int of type 'str'"
     ]
    }
   ],
   "source": [
    "print(\"hi\" *\"by \");"
   ]
  },
  {
   "cell_type": "code",
   "execution_count": 51,
   "id": "0af3e6ec",
   "metadata": {},
   "outputs": [
    {
     "name": "stdout",
     "output_type": "stream",
     "text": [
      "python is cool\n"
     ]
    }
   ],
   "source": [
    "print(\"python is cool\");"
   ]
  },
  {
   "cell_type": "code",
   "execution_count": 54,
   "id": "b9b5c1c1",
   "metadata": {},
   "outputs": [
    {
     "name": "stdout",
     "output_type": "stream",
     "text": [
      "is python \n",
      " cool?\n"
     ]
    }
   ],
   "source": [
    "print(\"is python \\n cool?\");"
   ]
  },
  {
   "cell_type": "code",
   "execution_count": 59,
   "id": "3947e8bf",
   "metadata": {},
   "outputs": [
    {
     "name": "stdout",
     "output_type": "stream",
     "text": [
      "enter your age 12\n",
      "your age is 12\n"
     ]
    }
   ],
   "source": [
    "a= input(\"enter your age \");\n",
    "print(\"your age is\", a);"
   ]
  },
  {
   "cell_type": "code",
   "execution_count": 60,
   "id": "7abc8a4a",
   "metadata": {},
   "outputs": [
    {
     "name": "stdout",
     "output_type": "stream",
     "text": [
      "enter your age12\n"
     ]
    },
    {
     "ename": "TypeError",
     "evalue": "can only concatenate str (not \"int\") to str",
     "output_type": "error",
     "traceback": [
      "\u001b[1;31m---------------------------------------------------------------------------\u001b[0m",
      "\u001b[1;31mTypeError\u001b[0m                                 Traceback (most recent call last)",
      "\u001b[1;32m<ipython-input-60-544a21da6cfa>\u001b[0m in \u001b[0;36m<module>\u001b[1;34m\u001b[0m\n\u001b[0;32m      1\u001b[0m \u001b[0ma\u001b[0m \u001b[1;33m=\u001b[0m \u001b[0minput\u001b[0m\u001b[1;33m(\u001b[0m\u001b[1;34m\"enter your age\"\u001b[0m\u001b[1;33m)\u001b[0m\u001b[1;33m;\u001b[0m\u001b[1;33m\u001b[0m\u001b[1;33m\u001b[0m\u001b[0m\n\u001b[0;32m      2\u001b[0m \u001b[0my\u001b[0m \u001b[1;33m=\u001b[0m \u001b[1;36m12\u001b[0m\u001b[1;33m;\u001b[0m\u001b[1;33m\u001b[0m\u001b[1;33m\u001b[0m\u001b[0m\n\u001b[1;32m----> 3\u001b[1;33m \u001b[0mz\u001b[0m \u001b[1;33m=\u001b[0m \u001b[0ma\u001b[0m\u001b[1;33m+\u001b[0m\u001b[0my\u001b[0m\u001b[1;33m;\u001b[0m\u001b[1;33m\u001b[0m\u001b[1;33m\u001b[0m\u001b[0m\n\u001b[0m\u001b[0;32m      4\u001b[0m \u001b[0mprint\u001b[0m\u001b[1;33m(\u001b[0m\u001b[0mz\u001b[0m\u001b[1;33m)\u001b[0m\u001b[1;33m;\u001b[0m\u001b[1;33m\u001b[0m\u001b[1;33m\u001b[0m\u001b[0m\n",
      "\u001b[1;31mTypeError\u001b[0m: can only concatenate str (not \"int\") to str"
     ]
    }
   ],
   "source": [
    "#Input always by default take input as string\n",
    "a = input(\"enter your age\");\n",
    "y = 12;\n",
    "z = a+y;\n",
    "print(z);"
   ]
  },
  {
   "cell_type": "code",
   "execution_count": 61,
   "id": "c603d1f9",
   "metadata": {},
   "outputs": [
    {
     "name": "stdout",
     "output_type": "stream",
     "text": [
      "enter your age12\n",
      "24\n"
     ]
    }
   ],
   "source": [
    "a = int(input(\"enter your age\"));\n",
    "y = 12;\n",
    "z = a+y;\n",
    "print(z);"
   ]
  },
  {
   "cell_type": "code",
   "execution_count": 62,
   "id": "f16eb987",
   "metadata": {},
   "outputs": [
    {
     "name": "stdout",
     "output_type": "stream",
     "text": [
      "enter your age122\n",
      "134\n"
     ]
    }
   ],
   "source": [
    "a = (input(\"enter your age\"));\n",
    "y = 12;\n",
    "z = int(a)+y;\n",
    "print(z);"
   ]
  },
  {
   "cell_type": "code",
   "execution_count": 63,
   "id": "e572314f",
   "metadata": {},
   "outputs": [
    {
     "data": {
      "text/plain": [
       "' Three line inverted commas is multiline comment'"
      ]
     },
     "execution_count": 63,
     "metadata": {},
     "output_type": "execute_result"
    }
   ],
   "source": [
    "#Hash is single line comment\n",
    "\"\"\" Three line inverted commas is multiline comment\"\"\"\n"
   ]
  },
  {
   "cell_type": "code",
   "execution_count": 64,
   "id": "0669c1a0",
   "metadata": {},
   "outputs": [],
   "source": [
    "#IF ELSE ELIF \n",
    "#CONDITION STATEMENTS\n"
   ]
  },
  {
   "cell_type": "code",
   "execution_count": 66,
   "id": "55ba2081",
   "metadata": {},
   "outputs": [
    {
     "name": "stdout",
     "output_type": "stream",
     "text": [
      "what is your age18\n",
      "allow\n"
     ]
    }
   ],
   "source": [
    "age = int(input(\"what is your age\"));\n",
    "\n",
    "if age >= 18 :\n",
    "    print(\"allow\")\n",
    "else:\n",
    "    print(\"don not allow\")"
   ]
  },
  {
   "cell_type": "code",
   "execution_count": 68,
   "id": "1c8caebb",
   "metadata": {},
   "outputs": [
    {
     "name": "stdout",
     "output_type": "stream",
     "text": [
      "so far so good \n"
     ]
    }
   ],
   "source": [
    "husband = 1;\n",
    "if husband == 1 :\n",
    "    print(\"so far so good \");\n",
    "#else:\n",
    " #   print(\"stay safe\");\n"
   ]
  },
  {
   "cell_type": "code",
   "execution_count": 72,
   "id": "8082b830",
   "metadata": {},
   "outputs": [
    {
     "name": "stdout",
     "output_type": "stream",
     "text": [
      "not equals\n"
     ]
    }
   ],
   "source": [
    "x= 10;\n",
    "y = 12;\n",
    "c = 30;\n",
    "d= 8;\n",
    "\n",
    "if x+y != c-d:\n",
    "    print(\"Both are equal\");\n",
    "else:\n",
    "    print(\"not equals\")"
   ]
  },
  {
   "cell_type": "code",
   "execution_count": 78,
   "id": "914fcd4a",
   "metadata": {},
   "outputs": [
    {
     "name": "stdout",
     "output_type": "stream",
     "text": [
      "Enter percentage89\n",
      "A+\n"
     ]
    }
   ],
   "source": [
    "per = int(input(\"Enter percentage\"));\n",
    "if per >= 80 and per <= 100 :\n",
    "    print(\"A+\");\n",
    "elif per >= 70 and per <= 80 :\n",
    "    print(\"A\");\n",
    "elif per >= 60 and per <= 70 :\n",
    "    print(\"B\");\n",
    "elif per >= 50 and per <= 60 :\n",
    "    print(\"c\");\n",
    "elif per >= 40 and per <= 50 :\n",
    "    print(\"D\");\n",
    "elif per <40:\n",
    "    print(\"fail\")\n",
    "else:\n",
    "    print(\"You didn't use an appropriate word\");\n",
    "    \n",
    "    "
   ]
  },
  {
   "cell_type": "code",
   "execution_count": null,
   "id": "f14e2657",
   "metadata": {},
   "outputs": [],
   "source": [
    "#Nested if statement runs from left and right"
   ]
  },
  {
   "cell_type": "code",
   "execution_count": 93,
   "id": "ef371498",
   "metadata": {},
   "outputs": [
    {
     "name": "stdout",
     "output_type": "stream",
     "text": [
      "19\n"
     ]
    }
   ],
   "source": [
    "a= 12;\n",
    "b= 12;\n",
    "c= 14;\n",
    "d= 14;\n",
    "e= 16;\n",
    "f= 17;\n",
    "g= 18;\n",
    "h= 19;\n",
    "x= 12;\n",
    "y= 12;\n",
    " \n",
    "if (x==y or a==b) and c==d :\n",
    " g=h\n",
    " print(g);\n",
    "    \n",
    "else:\n",
    " e=h\n",
    " print(e);"
   ]
  },
  {
   "cell_type": "code",
   "execution_count": 98,
   "id": "1aa680e0",
   "metadata": {},
   "outputs": [],
   "source": [
    "a= 12;\n",
    "b= 12;\n",
    "c= 14;\n",
    "d= 14;\n",
    "e= 16;\n",
    "f= 17;\n",
    "g= 18;\n",
    "h= 19;\n",
    "x= 13;\n",
    "y= 12;\n",
    "\n",
    "if c==d:\n",
    " if x==y:\n",
    "  g = h\n",
    "  print(g,h)\n",
    "    \n",
    "elif a==b:\n",
    " f==h\n",
    " print(f,h)\n",
    "elif c==d:\n",
    " x=y\n",
    " print(x)"
   ]
  },
  {
   "cell_type": "code",
   "execution_count": 100,
   "id": "9950bebe",
   "metadata": {},
   "outputs": [
    {
     "name": "stdout",
     "output_type": "stream",
     "text": [
      "19 19\n"
     ]
    }
   ],
   "source": [
    "a= 12;\n",
    "b= 12;\n",
    "c= 14;\n",
    "d= 14;\n",
    "e= 16;\n",
    "f= 17;\n",
    "g= 18;\n",
    "h= 19;\n",
    "x= 12;\n",
    "y= 12;\n",
    "\n",
    "if c==d:\n",
    " if x==y:\n",
    "  g = h\n",
    "  print(g,h)\n",
    "    \n",
    "elif a==b:\n",
    " f==h\n",
    " print(f,h);\n",
    "elif c==d:\n",
    " x=y\n",
    " print(x);"
   ]
  },
  {
   "cell_type": "code",
   "execution_count": 101,
   "id": "6ce76db4",
   "metadata": {},
   "outputs": [],
   "source": [
    "#List is group of elements"
   ]
  },
  {
   "cell_type": "code",
   "execution_count": 104,
   "id": "9ff38425",
   "metadata": {},
   "outputs": [
    {
     "name": "stdout",
     "output_type": "stream",
     "text": [
      "[12, 12.09, 'mark', 'numb', True]\n"
     ]
    }
   ],
   "source": [
    "arr = [12, 12.09, 'mark', \"numb\", True]\n",
    "print(arr)"
   ]
  },
  {
   "cell_type": "code",
   "execution_count": 106,
   "id": "67672337",
   "metadata": {},
   "outputs": [
    {
     "name": "stdout",
     "output_type": "stream",
     "text": [
      "12.09\n"
     ]
    }
   ],
   "source": [
    "print(arr[1])"
   ]
  },
  {
   "cell_type": "code",
   "execution_count": 107,
   "id": "5514570e",
   "metadata": {},
   "outputs": [],
   "source": [
    "arr.append('umer');"
   ]
  },
  {
   "cell_type": "code",
   "execution_count": 108,
   "id": "b500bddc",
   "metadata": {},
   "outputs": [
    {
     "name": "stdout",
     "output_type": "stream",
     "text": [
      "[12, 12.09, 'mark', 'numb', True, 'umer']\n"
     ]
    }
   ],
   "source": [
    "print(arr)"
   ]
  },
  {
   "cell_type": "code",
   "execution_count": 109,
   "id": "aad1b856",
   "metadata": {},
   "outputs": [
    {
     "data": {
      "text/plain": [
       "[12, 12.09, 'mark', 'numb', True, 'umer']"
      ]
     },
     "execution_count": 109,
     "metadata": {},
     "output_type": "execute_result"
    }
   ],
   "source": [
    "arr\n"
   ]
  },
  {
   "cell_type": "code",
   "execution_count": 110,
   "id": "d7cfe324",
   "metadata": {},
   "outputs": [
    {
     "name": "stdout",
     "output_type": "stream",
     "text": [
      "[12, 12.09, 'mark', 'numb', True, 'umer', 'umaaar', 'ghous', 122]\n"
     ]
    }
   ],
   "source": [
    "arr1 = arr +[ \"umaaar\", \"ghous\", 122]\n",
    "print(arr1);"
   ]
  },
  {
   "cell_type": "code",
   "execution_count": 112,
   "id": "1fb7ab96",
   "metadata": {},
   "outputs": [],
   "source": [
    "arr1.insert(2,\"raza\")"
   ]
  },
  {
   "cell_type": "code",
   "execution_count": 113,
   "id": "53c95112",
   "metadata": {},
   "outputs": [
    {
     "data": {
      "text/plain": [
       "[12, 12.09, 'raza', 'mark', 'numb', True, 'umer', 'umaaar', 'ghous', 122]"
      ]
     },
     "execution_count": 113,
     "metadata": {},
     "output_type": "execute_result"
    }
   ],
   "source": [
    "arr1"
   ]
  },
  {
   "cell_type": "code",
   "execution_count": 115,
   "id": "1995fe48",
   "metadata": {},
   "outputs": [
    {
     "data": {
      "text/plain": [
       "['raza', 'mark', 'numb', True, 'umer', 'umaaar']"
      ]
     },
     "execution_count": 115,
     "metadata": {},
     "output_type": "execute_result"
    }
   ],
   "source": [
    "arr2 = arr1[2:8]\n",
    "arr2"
   ]
  },
  {
   "cell_type": "code",
   "execution_count": 117,
   "id": "b4e7bd18",
   "metadata": {},
   "outputs": [
    {
     "name": "stdout",
     "output_type": "stream",
     "text": [
      "['raza', 'mark', 'numb', True, 'umer', 'umaaar']\n"
     ]
    }
   ],
   "source": [
    "arr2[:7]\n",
    "print(arr2)"
   ]
  },
  {
   "cell_type": "code",
   "execution_count": 120,
   "id": "6c188072",
   "metadata": {},
   "outputs": [
    {
     "name": "stdout",
     "output_type": "stream",
     "text": [
      "['raza', 'numb', True, 'umer', 'umaaar']\n"
     ]
    }
   ],
   "source": [
    "del arr2[1]\n",
    "print(arr2)"
   ]
  },
  {
   "cell_type": "code",
   "execution_count": 121,
   "id": "0488f1ab",
   "metadata": {},
   "outputs": [
    {
     "name": "stdout",
     "output_type": "stream",
     "text": [
      "['raza', True, 'umer', 'umaaar']\n"
     ]
    }
   ],
   "source": [
    "arr2.remove(\"numb\")\n",
    "print(arr2)"
   ]
  },
  {
   "cell_type": "code",
   "execution_count": 122,
   "id": "444a970e",
   "metadata": {},
   "outputs": [
    {
     "name": "stdout",
     "output_type": "stream",
     "text": [
      "umaaar\n"
     ]
    }
   ],
   "source": [
    "arr4 = arr2.pop()\n",
    "print(arr4);"
   ]
  },
  {
   "cell_type": "code",
   "execution_count": null,
   "id": "297dfc1b",
   "metadata": {},
   "outputs": [],
   "source": []
  }
 ],
 "metadata": {
  "kernelspec": {
   "display_name": "Python 3",
   "language": "python",
   "name": "python3"
  },
  "language_info": {
   "codemirror_mode": {
    "name": "ipython",
    "version": 3
   },
   "file_extension": ".py",
   "mimetype": "text/x-python",
   "name": "python",
   "nbconvert_exporter": "python",
   "pygments_lexer": "ipython3",
   "version": "3.8.8"
  }
 },
 "nbformat": 4,
 "nbformat_minor": 5
}
