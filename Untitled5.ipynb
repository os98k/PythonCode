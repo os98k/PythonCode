{
 "cells": [
  {
   "cell_type": "code",
   "execution_count": 1,
   "id": "5164e30d",
   "metadata": {},
   "outputs": [
    {
     "name": "stdout",
     "output_type": "stream",
     "text": [
      "Enter marks of English:23\n",
      "Enter marks of Chemistry:23\n",
      "Enter marks of Physics:23\n",
      "Enter marks of Math::23\n",
      "Enter marks of Urdu:32\n",
      "Your Grade is E1\n"
     ]
    }
   ],
   "source": [
    "sub1=int(input(\"Enter marks of English:\"));\n",
    "sub2=int(input(\"Enter marks of Chemistry:\"));\n",
    "sub3=int(input(\"Enter marks of Physics:\"));\n",
    "sub4=int(input(\"Enter marks of Math::\"));\n",
    "sub5=int(input(\"Enter marks of Urdu:\"));\n",
    "avg=(sub1+sub2+sub3+sub4+sub4)/5;\n",
    "\n",
    "if avg>=91 and avg<=100:\n",
    "    print(\"Your Grade is A1\")\n",
    "elif avg>=81 and avg<91:\n",
    "    print(\"Your Grade is A\")\n",
    "elif avg>=71 and avg<81:\n",
    "    print(\"Your Grade is B\")\n",
    "elif avg>=61 and avg<71:\n",
    "    print(\"Your Grade is C\")\n",
    "elif avg>=51 and avg<61:\n",
    "    print(\"Your Grade is D\")\n",
    "elif avg>=41 and avg<51:\n",
    "    print(\"Your Grade is E\")\n",
    "elif avg>=33 and avg<41:\n",
    "    print(\"Your Grade is F\")\n",
    "elif avg>=0 and avg<33:\n",
    "    print(\"Fail\")\n",
    "else:\n",
    "    print(\"Invalid Input!\")"
   ]
  },
  {
   "cell_type": "code",
   "execution_count": 2,
   "id": "dca54173",
   "metadata": {},
   "outputs": [
    {
     "name": "stdout",
     "output_type": "stream",
     "text": [
      "5\n"
     ]
    }
   ],
   "source": [
    "inp_lst = ['Python','Java','Kotlin','Machine Learning','Keras']\n",
    "size = len(inp_lst)\n",
    "print(size)"
   ]
  },
  {
   "cell_type": "code",
   "execution_count": 3,
   "id": "d9256f67",
   "metadata": {},
   "outputs": [
    {
     "ename": "TypeError",
     "evalue": "sum() takes at least 1 positional argument (0 given)",
     "output_type": "error",
     "traceback": [
      "\u001b[1;31m---------------------------------------------------------------------------\u001b[0m",
      "\u001b[1;31mTypeError\u001b[0m                                 Traceback (most recent call last)",
      "\u001b[1;32m<ipython-input-3-e67b5a94a9af>\u001b[0m in \u001b[0;36m<module>\u001b[1;34m\u001b[0m\n\u001b[0;32m      1\u001b[0m \u001b[0mlist2\u001b[0m \u001b[1;33m=\u001b[0m \u001b[1;33m[\u001b[0m\u001b[1;36m1\u001b[0m\u001b[1;33m,\u001b[0m \u001b[1;36m2\u001b[0m\u001b[1;33m,\u001b[0m \u001b[1;36m3\u001b[0m\u001b[1;33m,\u001b[0m \u001b[1;36m4\u001b[0m\u001b[1;33m,\u001b[0m \u001b[1;36m5\u001b[0m \u001b[1;33m]\u001b[0m\u001b[1;33m;\u001b[0m\u001b[1;33m\u001b[0m\u001b[1;33m\u001b[0m\u001b[0m\n\u001b[1;32m----> 2\u001b[1;33m \u001b[0msum\u001b[0m\u001b[1;33m(\u001b[0m\u001b[1;33m)\u001b[0m\u001b[1;33m\u001b[0m\u001b[1;33m\u001b[0m\u001b[0m\n\u001b[0m",
      "\u001b[1;31mTypeError\u001b[0m: sum() takes at least 1 positional argument (0 given)"
     ]
    }
   ],
   "source": [
    "list2 = [1, 2, 3, 4, 5 ];\n",
    "sum()"
   ]
  },
  {
   "cell_type": "code",
   "execution_count": 4,
   "id": "ff7f2659",
   "metadata": {},
   "outputs": [
    {
     "name": "stdout",
     "output_type": "stream",
     "text": [
      "25\n",
      "35\n"
     ]
    }
   ],
   "source": [
    "numbers = [1,2,3,4,5,1,4,5] \n",
    "  \n",
    "# start parameter is not provided \n",
    "Sum = sum(numbers) \n",
    "print(Sum) # result is 25  \n",
    "# start = 10 \n",
    "Sum = sum(numbers, 10) \n",
    "print(Sum) # result is 10 +25 = 35"
   ]
  },
  {
   "cell_type": "code",
   "execution_count": 5,
   "id": "b845365a",
   "metadata": {},
   "outputs": [
    {
     "name": "stdout",
     "output_type": "stream",
     "text": [
      "25\n"
     ]
    }
   ],
   "source": [
    "numbers = [1,2,3,4,5,1,4,5] \n",
    "Sum = sum(numbers);\n",
    "print(Sum)"
   ]
  },
  {
   "cell_type": "code",
   "execution_count": null,
   "id": "1d45df05",
   "metadata": {},
   "outputs": [],
   "source": [
    "list1= [1, 2, 3, 4, 5 ];\n",
    "num = int(input(\"Enter number of elements in list: \"))\n",
    "  "
   ]
  }
 ],
 "metadata": {
  "kernelspec": {
   "display_name": "Python 3",
   "language": "python",
   "name": "python3"
  },
  "language_info": {
   "codemirror_mode": {
    "name": "ipython",
    "version": 3
   },
   "file_extension": ".py",
   "mimetype": "text/x-python",
   "name": "python",
   "nbconvert_exporter": "python",
   "pygments_lexer": "ipython3",
   "version": "3.8.8"
  }
 },
 "nbformat": 4,
 "nbformat_minor": 5
}
