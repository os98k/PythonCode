{
 "cells": [
  {
   "cell_type": "code",
   "execution_count": 3,
   "id": "b2be0e8b",
   "metadata": {},
   "outputs": [],
   "source": [
    "import qrcode\n",
    "code_f = qrcode.QRCode(box_size= 35, border = 4)\n",
    "code_f.add_data(\"https://www.fiverr.com/users/seoguru784/\")\n",
    "code_f.make(fit=True)\n",
    "qrcode_img = code_f.make_image(fill_color = \"black\", back_color = \"white\")\n",
    "qrcode_img.save(\"qrcodeimg.png\")"
   ]
  },
  {
   "cell_type": "code",
   "execution_count": null,
   "id": "98e80369",
   "metadata": {},
   "outputs": [],
   "source": []
  }
 ],
 "metadata": {
  "kernelspec": {
   "display_name": "Python 3",
   "language": "python",
   "name": "python3"
  },
  "language_info": {
   "codemirror_mode": {
    "name": "ipython",
    "version": 3
   },
   "file_extension": ".py",
   "mimetype": "text/x-python",
   "name": "python",
   "nbconvert_exporter": "python",
   "pygments_lexer": "ipython3",
   "version": "3.8.8"
  }
 },
 "nbformat": 4,
 "nbformat_minor": 5
}
