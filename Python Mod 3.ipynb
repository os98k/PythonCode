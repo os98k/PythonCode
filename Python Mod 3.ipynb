{
 "cells": [
  {
   "cell_type": "code",
   "execution_count": 1,
   "id": "2bd26f61",
   "metadata": {},
   "outputs": [
    {
     "data": {
      "text/plain": [
       "'\\n\\nEnumerate function\\njoin function\\nfor and else\\nmain function\\nSingle inheritance\\nmultiple inheritance\\nmultilevel inheritance\\npublic, private and protected\\nclasses and objects\\nclass object and variables\\nSelf and init (constructors)\\nclass methods\\n'"
      ]
     },
     "execution_count": 1,
     "metadata": {},
     "output_type": "execute_result"
    }
   ],
   "source": [
    "#Topics Covered\n",
    "\"\"\"\n",
    "\n",
    "Enumerate function\n",
    "join function\n",
    "for and else\n",
    "main function\n",
    "Single inheritance\n",
    "multiple inheritance\n",
    "multilevel inheritance\n",
    "public, private and protected\n",
    "classes and objects\n",
    "class object and variables\n",
    "Self and init (constructors)\n",
    "class methods\n",
    "\"\"\""
   ]
  },
  {
   "cell_type": "code",
   "execution_count": 6,
   "id": "074b3f69",
   "metadata": {},
   "outputs": [
    {
     "name": "stdout",
     "output_type": "stream",
     "text": [
      " Give me copies\n",
      " Give me pencils\n"
     ]
    }
   ],
   "source": [
    "#Enumeration Function\n",
    "a = [\"books\", \"copies\", \"pens\", \"pencils\"]\n",
    "b = 1\n",
    "for item in a:\n",
    "    if b%2 ==0:\n",
    "        print(f\" Give me {item}\")\n",
    "    b +=1\n",
    "#instead of this we can simply enumerator"
   ]
  },
  {
   "cell_type": "code",
   "execution_count": 8,
   "id": "79ef7890",
   "metadata": {},
   "outputs": [
    {
     "name": "stdout",
     "output_type": "stream",
     "text": [
      "give me books\n",
      "give me pens\n"
     ]
    }
   ],
   "source": [
    "a = [\"books\", \"copies\", \"pens\", \"pencils\"]\n",
    "for index, item in enumerate(a): #enumerate is the keyword\n",
    "    if index%2 ==0: #Index starts from zero\n",
    "        print(f\"give me {item}\")"
   ]
  },
  {
   "cell_type": "code",
   "execution_count": 13,
   "id": "772bd9ea",
   "metadata": {},
   "outputs": [
    {
     "name": "stdout",
     "output_type": "stream",
     "text": [
      "pencils,erasers,pen,apple one more is left that is e\n"
     ]
    }
   ],
   "source": [
    "#Join Function\n",
    "\n",
    "list1 = [\"pencils\", \"erasers\",\"pen\", \"apple\"]\n",
    "#for item in list1:\n",
    "    #print(item, \"and\", end = \" \")\n",
    "s = \",\".join(list1)\n",
    "print(s,\"one more is left that is e\")\n"
   ]
  },
  {
   "cell_type": "code",
   "execution_count": 16,
   "id": "aa63688e",
   "metadata": {},
   "outputs": [
    {
     "name": "stdout",
     "output_type": "stream",
     "text": [
      "osama\n",
      "osama\n",
      "osama\n",
      "osama\n",
      "osama\n",
      "this statements ended successfully\n"
     ]
    }
   ],
   "source": [
    "#For and Else Together\n",
    "a = \"osama\"\n",
    "for ch in a:\n",
    "    print(a)\n",
    "else:\n",
    "    print(\"this statements ended successfully\")"
   ]
  },
  {
   "cell_type": "code",
   "execution_count": 18,
   "id": "b3dfecfe",
   "metadata": {},
   "outputs": [
    {
     "name": "stdout",
     "output_type": "stream",
     "text": [
      "One\n"
     ]
    }
   ],
   "source": [
    "list2=[\"One\",\"two\",\"ghg\"]\n",
    "for item in list2:\n",
    "    print(item)\n",
    "    break\n",
    "    if item ==\"One\":\n",
    "        break\n",
    "else:\n",
    "    print(\"this loop ended properly\")\n",
    "    "
   ]
  },
  {
   "cell_type": "code",
   "execution_count": 19,
   "id": "17155ec8",
   "metadata": {},
   "outputs": [
    {
     "name": "stdout",
     "output_type": "stream",
     "text": [
      "Zain is Good Football player\n"
     ]
    }
   ],
   "source": [
    "#Main Function\n",
    "def function(string):\n",
    "    return f\"Zain is Good Football {string}\"\n",
    "print(function(\"player\"))"
   ]
  },
  {
   "cell_type": "code",
   "execution_count": 20,
   "id": "dbba515e",
   "metadata": {},
   "outputs": [
    {
     "name": "stdout",
     "output_type": "stream",
     "text": [
      "19\n"
     ]
    }
   ],
   "source": [
    "def add(a,b):\n",
    "    return a+b+10\n",
    "a1=add(4,5)\n",
    "print(a1)"
   ]
  },
  {
   "cell_type": "code",
   "execution_count": 23,
   "id": "4b7397c0",
   "metadata": {},
   "outputs": [
    {
     "name": "stdout",
     "output_type": "stream",
     "text": [
      "100\n"
     ]
    }
   ],
   "source": [
    "print(add(40,50))"
   ]
  },
  {
   "cell_type": "code",
   "execution_count": 27,
   "id": "83d81b7a",
   "metadata": {},
   "outputs": [
    {
     "name": "stdout",
     "output_type": "stream",
     "text": [
      "Zain is Good Football Player\n",
      "40\n"
     ]
    }
   ],
   "source": [
    "if __name__ == '__main__':\n",
    "    print(function(\"Player\"))\n",
    "    a = add(10,20)\n",
    "    print(a)"
   ]
  },
  {
   "cell_type": "code",
   "execution_count": null,
   "id": "071b9b92",
   "metadata": {},
   "outputs": [],
   "source": [
    "#Inheritance \n",
    "#Single INheritance\n"
   ]
  }
 ],
 "metadata": {
  "kernelspec": {
   "display_name": "Python 3",
   "language": "python",
   "name": "python3"
  },
  "language_info": {
   "codemirror_mode": {
    "name": "ipython",
    "version": 3
   },
   "file_extension": ".py",
   "mimetype": "text/x-python",
   "name": "python",
   "nbconvert_exporter": "python",
   "pygments_lexer": "ipython3",
   "version": "3.8.8"
  }
 },
 "nbformat": 4,
 "nbformat_minor": 5
}
