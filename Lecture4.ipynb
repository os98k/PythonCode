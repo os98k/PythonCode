{
 "cells": [
  {
   "cell_type": "code",
   "execution_count": 1,
   "id": "a66aa72a",
   "metadata": {},
   "outputs": [
    {
     "name": "stdout",
     "output_type": "stream",
     "text": [
      "Hello Future data scientist\n"
     ]
    }
   ],
   "source": [
    "print(\"Hello Future data scientist\");"
   ]
  },
  {
   "cell_type": "code",
   "execution_count": 1,
   "id": "34db2e5e",
   "metadata": {},
   "outputs": [
    {
     "name": "stdout",
     "output_type": "stream",
     "text": [
      "[2, 3, 4, 'umer']\n"
     ]
    }
   ],
   "source": [
    "#list []\n",
    "list1 = [2,3,4,\"umer\"]\n",
    "print(list1)"
   ]
  },
  {
   "cell_type": "code",
   "execution_count": 2,
   "id": "e41fde3d",
   "metadata": {},
   "outputs": [
    {
     "data": {
      "text/plain": [
       "(1, 2, 3, 4, 5)"
      ]
     },
     "execution_count": 2,
     "metadata": {},
     "output_type": "execute_result"
    }
   ],
   "source": [
    "a = (1,2,3,4,5)\n",
    "a"
   ]
  },
  {
   "cell_type": "code",
   "execution_count": 3,
   "id": "91706947",
   "metadata": {},
   "outputs": [
    {
     "data": {
      "text/plain": [
       "(12, 3, 4, 5, 6)"
      ]
     },
     "execution_count": 3,
     "metadata": {},
     "output_type": "execute_result"
    }
   ],
   "source": [
    "b= 12, 3,4,5,6\n",
    "b"
   ]
  },
  {
   "cell_type": "code",
   "execution_count": 4,
   "id": "461cfb68",
   "metadata": {},
   "outputs": [
    {
     "data": {
      "text/plain": [
       "2"
      ]
     },
     "execution_count": 4,
     "metadata": {},
     "output_type": "execute_result"
    }
   ],
   "source": [
    "c=(2)\n",
    "c"
   ]
  },
  {
   "cell_type": "code",
   "execution_count": 5,
   "id": "3d7ddd96",
   "metadata": {},
   "outputs": [
    {
     "data": {
      "text/plain": [
       "(2,)"
      ]
     },
     "execution_count": 5,
     "metadata": {},
     "output_type": "execute_result"
    }
   ],
   "source": [
    "c= (2,)\n",
    "c"
   ]
  },
  {
   "cell_type": "code",
   "execution_count": 11,
   "id": "17744cfe",
   "metadata": {},
   "outputs": [
    {
     "data": {
      "text/plain": [
       "(('a', 'v', 'f', 'f'), (1, 2, 3, 4))"
      ]
     },
     "execution_count": 11,
     "metadata": {},
     "output_type": "execute_result"
    }
   ],
   "source": [
    "d = ((\"a\", \"v\", \"f\",\"f\"),(1,2,3,4))\n",
    "d"
   ]
  },
  {
   "cell_type": "code",
   "execution_count": 7,
   "id": "8185e4c4",
   "metadata": {},
   "outputs": [],
   "source": [
    "#tuples are initited with round brackets \n",
    "#Tuples are immutable and we can't make changes in it"
   ]
  },
  {
   "cell_type": "code",
   "execution_count": 8,
   "id": "d895623c",
   "metadata": {},
   "outputs": [],
   "source": [
    "#list can be change we can make changes in it\n",
    "#list are initited with square brackets"
   ]
  },
  {
   "cell_type": "code",
   "execution_count": 16,
   "id": "45d74f5e",
   "metadata": {},
   "outputs": [
    {
     "name": "stdout",
     "output_type": "stream",
     "text": [
      "1\n",
      "2\n",
      "3\n",
      "4\n",
      "5\n",
      "6\n",
      "7\n",
      "8\n",
      "8\n",
      "9\n",
      "9\n"
     ]
    }
   ],
   "source": [
    "\n",
    "#For loop in list\n",
    "lst = [1,2,3,4,5,6,7,8,8,9,9]\n",
    "for i in lst:\n",
    "    print(i)"
   ]
  },
  {
   "cell_type": "code",
   "execution_count": 17,
   "id": "902dde1c",
   "metadata": {},
   "outputs": [
    {
     "name": "stdout",
     "output_type": "stream",
     "text": [
      "0\n",
      "1\n",
      "1\n",
      "2\n",
      "2\n",
      "3\n",
      "3\n",
      "4\n",
      "4\n",
      "5\n",
      "5\n",
      "6\n",
      "6\n",
      "7\n",
      "7\n",
      "8\n",
      "8\n",
      "8\n",
      "9\n",
      "9\n",
      "10\n",
      "9\n"
     ]
    }
   ],
   "source": [
    "lst = [1,2,3,4,5,6,7,8,8,9,9]\n",
    "for i in range(len(lst)):\n",
    "    print(i) #index\n",
    "    print(lst[i]) #value\n"
   ]
  },
  {
   "cell_type": "code",
   "execution_count": 18,
   "id": "691494c3",
   "metadata": {},
   "outputs": [],
   "source": [
    "#Nested for loop is used for 2d array #list"
   ]
  },
  {
   "cell_type": "code",
   "execution_count": 19,
   "id": "e9d725da",
   "metadata": {},
   "outputs": [
    {
     "name": "stdout",
     "output_type": "stream",
     "text": [
      "[4, 5, 6]\n"
     ]
    }
   ],
   "source": [
    "a = [1,2,3,4,5,6]\n",
    "b = [4,5,6,7,8,9]\n",
    "c = []\n",
    "for i in a:\n",
    "    for j in b:\n",
    "        if (i==j):\n",
    "            c.append(i)\n",
    "            \n",
    "print(c)"
   ]
  },
  {
   "cell_type": "code",
   "execution_count": 24,
   "id": "805ac4b2",
   "metadata": {},
   "outputs": [
    {
     "name": "stdout",
     "output_type": "stream",
     "text": [
      "[4, 5, 6]\n"
     ]
    }
   ],
   "source": [
    "a = [1,2,3,4,5,6]\n",
    "b = [4,5,6,7,8,9]\n",
    "c = []\n",
    "for i in range(len(a)):\n",
    "    for j in range(len(b)):\n",
    "        if(a[i]==b[j]):\n",
    "            c.append(a[i])\n",
    "print(c)"
   ]
  },
  {
   "cell_type": "code",
   "execution_count": 25,
   "id": "2df46ae3",
   "metadata": {},
   "outputs": [
    {
     "name": "stdout",
     "output_type": "stream",
     "text": [
      "['BlueRay  Zzz', 'BlueRay  Burp', 'BlueRay  Dogbone', 'BlueRay  Droop', 'Upchuck  Zzz', 'Upchuck  Burp', 'Upchuck  Dogbone', 'Upchuck  Droop', 'Lojack  Zzz', 'Lojack  Burp', 'Lojack  Dogbone', 'Lojack  Droop', 'Gizmo  Zzz', 'Gizmo  Burp', 'Gizmo  Dogbone', 'Gizmo  Droop', 'Do-Rag  Zzz', 'Do-Rag  Burp', 'Do-Rag  Dogbone', 'Do-Rag  Droop']\n"
     ]
    }
   ],
   "source": [
    "first_names = [\"BlueRay \", \"Upchuck \", \"Lojack \",\n",
    "\"Gizmo \", \"Do-Rag \"]\n",
    "last_names = [\"Zzz\", \"Burp\", \"Dogbone\", \"Droop\"]\n",
    "full_names = []\n",
    "for a_first_name in first_names:\n",
    "    for a_last_name in last_names:\n",
    "        full_names.append(a_first_name + \" \" + a_last_name)\n",
    "print(full_names)\n"
   ]
  },
  {
   "cell_type": "code",
   "execution_count": 32,
   "id": "5154c76a",
   "metadata": {},
   "outputs": [
    {
     "name": "stdout",
     "output_type": "stream",
     "text": [
      "enter a number7\n",
      "<class 'int'>\n",
      "7\n"
     ]
    }
   ],
   "source": [
    "num = int(input(\"enter a number\"))\n",
    "print(type(num))\n",
    "num = str(num)\n",
    "print(type(num))"
   ]
  },
  {
   "cell_type": "code",
   "execution_count": 33,
   "id": "acf6906f",
   "metadata": {},
   "outputs": [
    {
     "name": "stdout",
     "output_type": "stream",
     "text": [
      "Enter a num: 5\n",
      "<class 'int'>\n",
      "<class 'str'>\n",
      "5.0\n"
     ]
    }
   ],
   "source": [
    "num = int(input(\"Enter a num: \"))\n",
    "\n",
    "print(type(num))\n",
    "\n",
    "num = str(num)\n",
    "print(type(num))\n",
    "\n",
    "num = float(num)\n",
    "print(num)"
   ]
  },
  {
   "cell_type": "markdown",
   "id": "e0190aac",
   "metadata": {},
   "source": [
    "name = input(\"enter a name\")\n",
    "print(name.upper)\n",
    "print(name.lower)\n",
    "print(name.title)"
   ]
  },
  {
   "cell_type": "code",
   "execution_count": 35,
   "id": "41daec62",
   "metadata": {},
   "outputs": [
    {
     "name": "stdout",
     "output_type": "stream",
     "text": [
      "enter a name: osama\n",
      "OSAMA\n",
      "osama\n",
      "Osama\n"
     ]
    }
   ],
   "source": [
    "name = input(\"enter a name: \") \n",
    "print(name.upper())\n",
    "print(name.lower()) \n",
    "print(name.title())"
   ]
  },
  {
   "cell_type": "code",
   "execution_count": null,
   "id": "068e4d00",
   "metadata": {},
   "outputs": [],
   "source": []
  }
 ],
 "metadata": {
  "kernelspec": {
   "display_name": "Python 3",
   "language": "python",
   "name": "python3"
  },
  "language_info": {
   "codemirror_mode": {
    "name": "ipython",
    "version": 3
   },
   "file_extension": ".py",
   "mimetype": "text/x-python",
   "name": "python",
   "nbconvert_exporter": "python",
   "pygments_lexer": "ipython3",
   "version": "3.8.8"
  }
 },
 "nbformat": 4,
 "nbformat_minor": 5
}
